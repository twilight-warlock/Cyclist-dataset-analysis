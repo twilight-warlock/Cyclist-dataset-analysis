{
  "nbformat": 4,
  "nbformat_minor": 0,
  "metadata": {
    "colab": {
      "name": "Cyclistic Bike Share Analysis.ipynb",
      "provenance": [],
      "collapsed_sections": []
    },
    "kernelspec": {
      "name": "ir",
      "display_name": "R"
    },
    "language_info": {
      "name": "R"
    }
  },
  "cells": [
    {
      "cell_type": "code",
      "metadata": {
        "colab": {
          "base_uri": "https://localhost:8080/"
        },
        "id": "vVOLCVUQ3FHW",
        "outputId": "927f43d4-edff-43de-8c8a-385ea17aca67"
      },
      "source": [
        "#install packages \n",
        "library(tidyverse)\n",
        "library(lubridate)  \n",
        "library(ggplot2)"
      ],
      "execution_count": 1,
      "outputs": [
        {
          "output_type": "stream",
          "text": [
            "Warning message in system(\"timedatectl\", intern = TRUE):\n",
            "“running command 'timedatectl' had status 1”\n",
            "── \u001b[1mAttaching packages\u001b[22m ─────────────────────────────────────── tidyverse 1.3.1 ──\n",
            "\n",
            "\u001b[32m✔\u001b[39m \u001b[34mggplot2\u001b[39m 3.3.5     \u001b[32m✔\u001b[39m \u001b[34mpurrr  \u001b[39m 0.3.4\n",
            "\u001b[32m✔\u001b[39m \u001b[34mtibble \u001b[39m 3.1.2     \u001b[32m✔\u001b[39m \u001b[34mdplyr  \u001b[39m 1.0.7\n",
            "\u001b[32m✔\u001b[39m \u001b[34mtidyr  \u001b[39m 1.1.3     \u001b[32m✔\u001b[39m \u001b[34mstringr\u001b[39m 1.4.0\n",
            "\u001b[32m✔\u001b[39m \u001b[34mreadr  \u001b[39m 1.4.0     \u001b[32m✔\u001b[39m \u001b[34mforcats\u001b[39m 0.5.1\n",
            "\n",
            "── \u001b[1mConflicts\u001b[22m ────────────────────────────────────────── tidyverse_conflicts() ──\n",
            "\u001b[31m✖\u001b[39m \u001b[34mdplyr\u001b[39m::\u001b[32mfilter()\u001b[39m masks \u001b[34mstats\u001b[39m::filter()\n",
            "\u001b[31m✖\u001b[39m \u001b[34mdplyr\u001b[39m::\u001b[32mlag()\u001b[39m    masks \u001b[34mstats\u001b[39m::lag()\n",
            "\n",
            "\n",
            "Attaching package: ‘lubridate’\n",
            "\n",
            "\n",
            "The following objects are masked from ‘package:base’:\n",
            "\n",
            "    date, intersect, setdiff, union\n",
            "\n",
            "\n"
          ],
          "name": "stderr"
        }
      ]
    },
    {
      "cell_type": "code",
      "metadata": {
        "colab": {
          "base_uri": "https://localhost:8080/"
        },
        "id": "CxHXtV645Chp",
        "outputId": "b5ba69d5-0c16-4302-83ec-5991184fc454"
      },
      "source": [
        "data_202106 <- read_csv(\"202106-divvy-tripdata.csv\")\n",
        "data_202105 <- read_csv(\"202105-divvy-tripdata.csv\")\n",
        "data_202104 <- read_csv(\"202104-divvy-tripdata.csv\")\n",
        "data_202103 <- read_csv(\"202103-divvy-tripdata.csv\")\n",
        "data_202102 <- read_csv(\"202102-divvy-tripdata.csv\")\n",
        "data_202101 <- read_csv(\"202101-divvy-tripdata.csv\")\n",
        "data_202012 <- read_csv(\"202012-divvy-tripdata.csv\")\n",
        "data_202011 <- read_csv(\"202011-divvy-tripdata.csv\")\n",
        "data_202010 <- read_csv(\"202010-divvy-tripdata.csv\")\n",
        "data_202009 <- read_csv(\"202009-divvy-tripdata.csv\")\n",
        "data_202008 <- read_csv(\"202008-divvy-tripdata.csv\")\n",
        "data_202007 <- read_csv(\"202007-divvy-tripdata.csv\")\n",
        "data_202006 <- read_csv(\"202006-divvy-tripdata.csv\")\n",
        "data_202005 <- read_csv(\"202005-divvy-tripdata.csv\")\n",
        "data_202004 <- read_csv(\"202004-divvy-tripdata.csv\")"
      ],
      "execution_count": 3,
      "outputs": [
        {
          "output_type": "stream",
          "text": [
            "\n",
            "\u001b[36m──\u001b[39m \u001b[1m\u001b[1mColumn specification\u001b[1m\u001b[22m \u001b[36m────────────────────────────────────────────────────────\u001b[39m\n",
            "cols(\n",
            "  ride_id = \u001b[31mcol_character()\u001b[39m,\n",
            "  rideable_type = \u001b[31mcol_character()\u001b[39m,\n",
            "  started_at = \u001b[34mcol_datetime(format = \"\")\u001b[39m,\n",
            "  ended_at = \u001b[34mcol_datetime(format = \"\")\u001b[39m,\n",
            "  start_station_name = \u001b[31mcol_character()\u001b[39m,\n",
            "  start_station_id = \u001b[31mcol_character()\u001b[39m,\n",
            "  end_station_name = \u001b[31mcol_character()\u001b[39m,\n",
            "  end_station_id = \u001b[31mcol_character()\u001b[39m,\n",
            "  start_lat = \u001b[32mcol_double()\u001b[39m,\n",
            "  start_lng = \u001b[32mcol_double()\u001b[39m,\n",
            "  end_lat = \u001b[32mcol_double()\u001b[39m,\n",
            "  end_lng = \u001b[32mcol_double()\u001b[39m,\n",
            "  member_casual = \u001b[31mcol_character()\u001b[39m\n",
            ")\n",
            "\n",
            "\n",
            "Warning message:\n",
            "“1 parsing failure.\n",
            "   row col   expected    actual                        file\n",
            "220227  -- 13 columns 9 columns '202106-divvy-tripdata.csv'\n",
            "”\n",
            "\n",
            "\u001b[36m──\u001b[39m \u001b[1m\u001b[1mColumn specification\u001b[1m\u001b[22m \u001b[36m────────────────────────────────────────────────────────\u001b[39m\n",
            "cols(\n",
            "  ride_id = \u001b[31mcol_character()\u001b[39m,\n",
            "  rideable_type = \u001b[31mcol_character()\u001b[39m,\n",
            "  started_at = \u001b[34mcol_datetime(format = \"\")\u001b[39m,\n",
            "  ended_at = \u001b[34mcol_datetime(format = \"\")\u001b[39m,\n",
            "  start_station_name = \u001b[31mcol_character()\u001b[39m,\n",
            "  start_station_id = \u001b[31mcol_character()\u001b[39m,\n",
            "  end_station_name = \u001b[31mcol_character()\u001b[39m,\n",
            "  end_station_id = \u001b[31mcol_character()\u001b[39m,\n",
            "  start_lat = \u001b[32mcol_double()\u001b[39m,\n",
            "  start_lng = \u001b[32mcol_double()\u001b[39m,\n",
            "  end_lat = \u001b[32mcol_double()\u001b[39m,\n",
            "  end_lng = \u001b[32mcol_double()\u001b[39m,\n",
            "  member_casual = \u001b[31mcol_character()\u001b[39m\n",
            ")\n",
            "\n",
            "\n",
            "Warning message:\n",
            "“1 parsing failure.\n",
            "   row col   expected     actual                        file\n",
            "216748  -- 13 columns 10 columns '202105-divvy-tripdata.csv'\n",
            "”\n",
            "\n",
            "\u001b[36m──\u001b[39m \u001b[1m\u001b[1mColumn specification\u001b[1m\u001b[22m \u001b[36m────────────────────────────────────────────────────────\u001b[39m\n",
            "cols(\n",
            "  ride_id = \u001b[31mcol_character()\u001b[39m,\n",
            "  rideable_type = \u001b[31mcol_character()\u001b[39m,\n",
            "  started_at = \u001b[34mcol_datetime(format = \"\")\u001b[39m,\n",
            "  ended_at = \u001b[34mcol_datetime(format = \"\")\u001b[39m,\n",
            "  start_station_name = \u001b[31mcol_character()\u001b[39m,\n",
            "  start_station_id = \u001b[31mcol_character()\u001b[39m,\n",
            "  end_station_name = \u001b[31mcol_character()\u001b[39m,\n",
            "  end_station_id = \u001b[31mcol_character()\u001b[39m,\n",
            "  start_lat = \u001b[32mcol_double()\u001b[39m,\n",
            "  start_lng = \u001b[32mcol_double()\u001b[39m,\n",
            "  end_lat = \u001b[32mcol_double()\u001b[39m,\n",
            "  end_lng = \u001b[32mcol_double()\u001b[39m,\n",
            "  member_casual = \u001b[31mcol_character()\u001b[39m\n",
            ")\n",
            "\n",
            "\n",
            "Warning message:\n",
            "“1 parsing failure.\n",
            "   row col   expected     actual                        file\n",
            "229589  -- 13 columns 10 columns '202104-divvy-tripdata.csv'\n",
            "”\n",
            "\n",
            "\u001b[36m──\u001b[39m \u001b[1m\u001b[1mColumn specification\u001b[1m\u001b[22m \u001b[36m────────────────────────────────────────────────────────\u001b[39m\n",
            "cols(\n",
            "  ride_id = \u001b[31mcol_character()\u001b[39m,\n",
            "  rideable_type = \u001b[31mcol_character()\u001b[39m,\n",
            "  started_at = \u001b[34mcol_datetime(format = \"\")\u001b[39m,\n",
            "  ended_at = \u001b[34mcol_datetime(format = \"\")\u001b[39m,\n",
            "  start_station_name = \u001b[31mcol_character()\u001b[39m,\n",
            "  start_station_id = \u001b[31mcol_character()\u001b[39m,\n",
            "  end_station_name = \u001b[31mcol_character()\u001b[39m,\n",
            "  end_station_id = \u001b[31mcol_character()\u001b[39m,\n",
            "  start_lat = \u001b[32mcol_double()\u001b[39m,\n",
            "  start_lng = \u001b[32mcol_double()\u001b[39m,\n",
            "  end_lat = \u001b[32mcol_double()\u001b[39m,\n",
            "  end_lng = \u001b[32mcol_double()\u001b[39m,\n",
            "  member_casual = \u001b[31mcol_character()\u001b[39m\n",
            ")\n",
            "\n",
            "\n",
            "Warning message:\n",
            "“1 parsing failure.\n",
            "   row col   expected    actual                        file\n",
            "219886  -- 13 columns 7 columns '202103-divvy-tripdata.csv'\n",
            "”\n",
            "\n",
            "\u001b[36m──\u001b[39m \u001b[1m\u001b[1mColumn specification\u001b[1m\u001b[22m \u001b[36m────────────────────────────────────────────────────────\u001b[39m\n",
            "cols(\n",
            "  ride_id = \u001b[31mcol_character()\u001b[39m,\n",
            "  rideable_type = \u001b[31mcol_character()\u001b[39m,\n",
            "  started_at = \u001b[34mcol_datetime(format = \"\")\u001b[39m,\n",
            "  ended_at = \u001b[34mcol_datetime(format = \"\")\u001b[39m,\n",
            "  start_station_name = \u001b[31mcol_character()\u001b[39m,\n",
            "  start_station_id = \u001b[31mcol_character()\u001b[39m,\n",
            "  end_station_name = \u001b[31mcol_character()\u001b[39m,\n",
            "  end_station_id = \u001b[31mcol_character()\u001b[39m,\n",
            "  start_lat = \u001b[32mcol_double()\u001b[39m,\n",
            "  start_lng = \u001b[32mcol_double()\u001b[39m,\n",
            "  end_lat = \u001b[32mcol_double()\u001b[39m,\n",
            "  end_lng = \u001b[32mcol_double()\u001b[39m,\n",
            "  member_casual = \u001b[31mcol_character()\u001b[39m\n",
            ")\n",
            "\n",
            "\n",
            "\n",
            "\u001b[36m──\u001b[39m \u001b[1m\u001b[1mColumn specification\u001b[1m\u001b[22m \u001b[36m────────────────────────────────────────────────────────\u001b[39m\n",
            "cols(\n",
            "  ride_id = \u001b[31mcol_character()\u001b[39m,\n",
            "  rideable_type = \u001b[31mcol_character()\u001b[39m,\n",
            "  started_at = \u001b[34mcol_datetime(format = \"\")\u001b[39m,\n",
            "  ended_at = \u001b[34mcol_datetime(format = \"\")\u001b[39m,\n",
            "  start_station_name = \u001b[31mcol_character()\u001b[39m,\n",
            "  start_station_id = \u001b[31mcol_character()\u001b[39m,\n",
            "  end_station_name = \u001b[31mcol_character()\u001b[39m,\n",
            "  end_station_id = \u001b[31mcol_character()\u001b[39m,\n",
            "  start_lat = \u001b[32mcol_double()\u001b[39m,\n",
            "  start_lng = \u001b[32mcol_double()\u001b[39m,\n",
            "  end_lat = \u001b[32mcol_double()\u001b[39m,\n",
            "  end_lng = \u001b[32mcol_double()\u001b[39m,\n",
            "  member_casual = \u001b[31mcol_character()\u001b[39m\n",
            ")\n",
            "\n",
            "\n",
            "\n",
            "\u001b[36m──\u001b[39m \u001b[1m\u001b[1mColumn specification\u001b[1m\u001b[22m \u001b[36m────────────────────────────────────────────────────────\u001b[39m\n",
            "cols(\n",
            "  ride_id = \u001b[31mcol_character()\u001b[39m,\n",
            "  rideable_type = \u001b[31mcol_character()\u001b[39m,\n",
            "  started_at = \u001b[34mcol_datetime(format = \"\")\u001b[39m,\n",
            "  ended_at = \u001b[34mcol_datetime(format = \"\")\u001b[39m,\n",
            "  start_station_name = \u001b[31mcol_character()\u001b[39m,\n",
            "  start_station_id = \u001b[31mcol_character()\u001b[39m,\n",
            "  end_station_name = \u001b[31mcol_character()\u001b[39m,\n",
            "  end_station_id = \u001b[31mcol_character()\u001b[39m,\n",
            "  start_lat = \u001b[32mcol_double()\u001b[39m,\n",
            "  start_lng = \u001b[32mcol_double()\u001b[39m,\n",
            "  end_lat = \u001b[32mcol_double()\u001b[39m,\n",
            "  end_lng = \u001b[32mcol_double()\u001b[39m,\n",
            "  member_casual = \u001b[31mcol_character()\u001b[39m\n",
            ")\n",
            "\n",
            "\n",
            "\n",
            "\u001b[36m──\u001b[39m \u001b[1m\u001b[1mColumn specification\u001b[1m\u001b[22m \u001b[36m────────────────────────────────────────────────────────\u001b[39m\n",
            "cols(\n",
            "  ride_id = \u001b[31mcol_character()\u001b[39m,\n",
            "  rideable_type = \u001b[31mcol_character()\u001b[39m,\n",
            "  started_at = \u001b[34mcol_datetime(format = \"\")\u001b[39m,\n",
            "  ended_at = \u001b[34mcol_datetime(format = \"\")\u001b[39m,\n",
            "  start_station_name = \u001b[31mcol_character()\u001b[39m,\n",
            "  start_station_id = \u001b[32mcol_double()\u001b[39m,\n",
            "  end_station_name = \u001b[31mcol_character()\u001b[39m,\n",
            "  end_station_id = \u001b[32mcol_double()\u001b[39m,\n",
            "  start_lat = \u001b[32mcol_double()\u001b[39m,\n",
            "  start_lng = \u001b[32mcol_double()\u001b[39m,\n",
            "  end_lat = \u001b[32mcol_double()\u001b[39m,\n",
            "  end_lng = \u001b[32mcol_double()\u001b[39m,\n",
            "  member_casual = \u001b[31mcol_character()\u001b[39m\n",
            ")\n",
            "\n",
            "\n",
            "Warning message:\n",
            "“2 parsing failures.\n",
            "   row        col   expected    actual                        file\n",
            "235747 started_at date like  2020      '202011-divvy-tripdata.csv'\n",
            "235747 NA         13 columns 3 columns '202011-divvy-tripdata.csv'\n",
            "”\n",
            "\n",
            "\u001b[36m──\u001b[39m \u001b[1m\u001b[1mColumn specification\u001b[1m\u001b[22m \u001b[36m────────────────────────────────────────────────────────\u001b[39m\n",
            "cols(\n",
            "  ride_id = \u001b[31mcol_character()\u001b[39m,\n",
            "  rideable_type = \u001b[31mcol_character()\u001b[39m,\n",
            "  started_at = \u001b[34mcol_datetime(format = \"\")\u001b[39m,\n",
            "  ended_at = \u001b[34mcol_datetime(format = \"\")\u001b[39m,\n",
            "  start_station_name = \u001b[31mcol_character()\u001b[39m,\n",
            "  start_station_id = \u001b[32mcol_double()\u001b[39m,\n",
            "  end_station_name = \u001b[31mcol_character()\u001b[39m,\n",
            "  end_station_id = \u001b[32mcol_double()\u001b[39m,\n",
            "  start_lat = \u001b[32mcol_double()\u001b[39m,\n",
            "  start_lng = \u001b[32mcol_double()\u001b[39m,\n",
            "  end_lat = \u001b[32mcol_double()\u001b[39m,\n",
            "  end_lng = \u001b[32mcol_double()\u001b[39m,\n",
            "  member_casual = \u001b[31mcol_character()\u001b[39m\n",
            ")\n",
            "\n",
            "\n",
            "\n",
            "\u001b[36m──\u001b[39m \u001b[1m\u001b[1mColumn specification\u001b[1m\u001b[22m \u001b[36m────────────────────────────────────────────────────────\u001b[39m\n",
            "cols(\n",
            "  ride_id = \u001b[31mcol_character()\u001b[39m,\n",
            "  rideable_type = \u001b[31mcol_character()\u001b[39m,\n",
            "  started_at = \u001b[34mcol_datetime(format = \"\")\u001b[39m,\n",
            "  ended_at = \u001b[34mcol_datetime(format = \"\")\u001b[39m,\n",
            "  start_station_name = \u001b[31mcol_character()\u001b[39m,\n",
            "  start_station_id = \u001b[32mcol_double()\u001b[39m,\n",
            "  end_station_name = \u001b[31mcol_character()\u001b[39m,\n",
            "  end_station_id = \u001b[32mcol_double()\u001b[39m,\n",
            "  start_lat = \u001b[32mcol_double()\u001b[39m,\n",
            "  start_lng = \u001b[32mcol_double()\u001b[39m,\n",
            "  end_lat = \u001b[32mcol_double()\u001b[39m,\n",
            "  end_lng = \u001b[32mcol_double()\u001b[39m,\n",
            "  member_casual = \u001b[31mcol_character()\u001b[39m\n",
            ")\n",
            "\n",
            "\n",
            "\n",
            "\u001b[36m──\u001b[39m \u001b[1m\u001b[1mColumn specification\u001b[1m\u001b[22m \u001b[36m────────────────────────────────────────────────────────\u001b[39m\n",
            "cols(\n",
            "  ride_id = \u001b[31mcol_character()\u001b[39m,\n",
            "  rideable_type = \u001b[31mcol_character()\u001b[39m,\n",
            "  started_at = \u001b[34mcol_datetime(format = \"\")\u001b[39m,\n",
            "  ended_at = \u001b[34mcol_datetime(format = \"\")\u001b[39m,\n",
            "  start_station_name = \u001b[31mcol_character()\u001b[39m,\n",
            "  start_station_id = \u001b[32mcol_double()\u001b[39m,\n",
            "  end_station_name = \u001b[31mcol_character()\u001b[39m,\n",
            "  end_station_id = \u001b[32mcol_double()\u001b[39m,\n",
            "  start_lat = \u001b[32mcol_double()\u001b[39m,\n",
            "  start_lng = \u001b[32mcol_double()\u001b[39m,\n",
            "  end_lat = \u001b[32mcol_double()\u001b[39m,\n",
            "  end_lng = \u001b[32mcol_double()\u001b[39m,\n",
            "  member_casual = \u001b[31mcol_character()\u001b[39m\n",
            ")\n",
            "\n",
            "\n",
            "Warning message:\n",
            "“1 parsing failure.\n",
            "   row col   expected    actual                        file\n",
            "234034  -- 13 columns 6 columns '202008-divvy-tripdata.csv'\n",
            "”\n",
            "\n",
            "\u001b[36m──\u001b[39m \u001b[1m\u001b[1mColumn specification\u001b[1m\u001b[22m \u001b[36m────────────────────────────────────────────────────────\u001b[39m\n",
            "cols(\n",
            "  ride_id = \u001b[31mcol_character()\u001b[39m,\n",
            "  rideable_type = \u001b[31mcol_character()\u001b[39m,\n",
            "  started_at = \u001b[34mcol_datetime(format = \"\")\u001b[39m,\n",
            "  ended_at = \u001b[34mcol_datetime(format = \"\")\u001b[39m,\n",
            "  start_station_name = \u001b[31mcol_character()\u001b[39m,\n",
            "  start_station_id = \u001b[32mcol_double()\u001b[39m,\n",
            "  end_station_name = \u001b[31mcol_character()\u001b[39m,\n",
            "  end_station_id = \u001b[32mcol_double()\u001b[39m,\n",
            "  start_lat = \u001b[32mcol_double()\u001b[39m,\n",
            "  start_lng = \u001b[32mcol_double()\u001b[39m,\n",
            "  end_lat = \u001b[32mcol_double()\u001b[39m,\n",
            "  end_lng = \u001b[32mcol_double()\u001b[39m,\n",
            "  member_casual = \u001b[31mcol_character()\u001b[39m\n",
            ")\n",
            "\n",
            "\n",
            "Warning message:\n",
            "“1 parsing failure.\n",
            "   row col   expected    actual                        file\n",
            "236781  -- 13 columns 9 columns '202007-divvy-tripdata.csv'\n",
            "”\n",
            "\n",
            "\u001b[36m──\u001b[39m \u001b[1m\u001b[1mColumn specification\u001b[1m\u001b[22m \u001b[36m────────────────────────────────────────────────────────\u001b[39m\n",
            "cols(\n",
            "  ride_id = \u001b[31mcol_character()\u001b[39m,\n",
            "  rideable_type = \u001b[31mcol_character()\u001b[39m,\n",
            "  started_at = \u001b[34mcol_datetime(format = \"\")\u001b[39m,\n",
            "  ended_at = \u001b[34mcol_datetime(format = \"\")\u001b[39m,\n",
            "  start_station_name = \u001b[31mcol_character()\u001b[39m,\n",
            "  start_station_id = \u001b[32mcol_double()\u001b[39m,\n",
            "  end_station_name = \u001b[31mcol_character()\u001b[39m,\n",
            "  end_station_id = \u001b[32mcol_double()\u001b[39m,\n",
            "  start_lat = \u001b[32mcol_double()\u001b[39m,\n",
            "  start_lng = \u001b[32mcol_double()\u001b[39m,\n",
            "  end_lat = \u001b[32mcol_double()\u001b[39m,\n",
            "  end_lng = \u001b[32mcol_double()\u001b[39m,\n",
            "  member_casual = \u001b[31mcol_character()\u001b[39m\n",
            ")\n",
            "\n",
            "\n",
            "Warning message:\n",
            "“1 parsing failure.\n",
            "   row col   expected    actual                        file\n",
            "242430  -- 13 columns 3 columns '202006-divvy-tripdata.csv'\n",
            "”\n",
            "\n",
            "\u001b[36m──\u001b[39m \u001b[1m\u001b[1mColumn specification\u001b[1m\u001b[22m \u001b[36m────────────────────────────────────────────────────────\u001b[39m\n",
            "cols(\n",
            "  ride_id = \u001b[31mcol_character()\u001b[39m,\n",
            "  rideable_type = \u001b[31mcol_character()\u001b[39m,\n",
            "  started_at = \u001b[34mcol_datetime(format = \"\")\u001b[39m,\n",
            "  ended_at = \u001b[34mcol_datetime(format = \"\")\u001b[39m,\n",
            "  start_station_name = \u001b[31mcol_character()\u001b[39m,\n",
            "  start_station_id = \u001b[32mcol_double()\u001b[39m,\n",
            "  end_station_name = \u001b[31mcol_character()\u001b[39m,\n",
            "  end_station_id = \u001b[32mcol_double()\u001b[39m,\n",
            "  start_lat = \u001b[32mcol_double()\u001b[39m,\n",
            "  start_lng = \u001b[32mcol_double()\u001b[39m,\n",
            "  end_lat = \u001b[32mcol_double()\u001b[39m,\n",
            "  end_lng = \u001b[32mcol_double()\u001b[39m,\n",
            "  member_casual = \u001b[31mcol_character()\u001b[39m\n",
            ")\n",
            "\n",
            "\n",
            "\n",
            "\u001b[36m──\u001b[39m \u001b[1m\u001b[1mColumn specification\u001b[1m\u001b[22m \u001b[36m────────────────────────────────────────────────────────\u001b[39m\n",
            "cols(\n",
            "  ride_id = \u001b[31mcol_character()\u001b[39m,\n",
            "  rideable_type = \u001b[31mcol_character()\u001b[39m,\n",
            "  started_at = \u001b[34mcol_datetime(format = \"\")\u001b[39m,\n",
            "  ended_at = \u001b[34mcol_datetime(format = \"\")\u001b[39m,\n",
            "  start_station_name = \u001b[31mcol_character()\u001b[39m,\n",
            "  start_station_id = \u001b[32mcol_double()\u001b[39m,\n",
            "  end_station_name = \u001b[31mcol_character()\u001b[39m,\n",
            "  end_station_id = \u001b[32mcol_double()\u001b[39m,\n",
            "  start_lat = \u001b[32mcol_double()\u001b[39m,\n",
            "  start_lng = \u001b[32mcol_double()\u001b[39m,\n",
            "  end_lat = \u001b[32mcol_double()\u001b[39m,\n",
            "  end_lng = \u001b[32mcol_double()\u001b[39m,\n",
            "  member_casual = \u001b[31mcol_character()\u001b[39m\n",
            ")\n",
            "\n",
            "\n"
          ],
          "name": "stderr"
        }
      ]
    },
    {
      "cell_type": "code",
      "metadata": {
        "colab": {
          "base_uri": "https://localhost:8080/"
        },
        "id": "09c0T1hP7lYp",
        "outputId": "e6275d56-5865-46a6-cb95-fce0cbd58d69"
      },
      "source": [
        "str(data_202004)\n",
        "str(data_202005)\n",
        "str(data_202006)\n",
        "str(data_202007)\n",
        "str(data_202008)\n",
        "str(data_202009)\n",
        "str(data_202010)\n",
        "str(data_202011)\n",
        "str(data_202012)\n",
        "str(data_202101)\n",
        "str(data_202102)\n",
        "str(data_202103)"
      ],
      "execution_count": 5,
      "outputs": [
        {
          "output_type": "stream",
          "text": [
            "spec_tbl_df [84,776 × 13] (S3: spec_tbl_df/tbl_df/tbl/data.frame)\n",
            " $ ride_id           : chr [1:84776] \"A847FADBBC638E45\" \"5405B80E996FF60D\" \"5DD24A79A4E006F4\" \"2A59BBDF5CDBA725\" ...\n",
            " $ rideable_type     : chr [1:84776] \"docked_bike\" \"docked_bike\" \"docked_bike\" \"docked_bike\" ...\n",
            " $ started_at        : POSIXct[1:84776], format: \"2020-04-26 17:45:14\" \"2020-04-17 17:08:54\" ...\n",
            " $ ended_at          : POSIXct[1:84776], format: \"2020-04-26 18:12:03\" \"2020-04-17 17:17:03\" ...\n",
            " $ start_station_name: chr [1:84776] \"Eckhart Park\" \"Drake Ave & Fullerton Ave\" \"McClurg Ct & Erie St\" \"California Ave & Division St\" ...\n",
            " $ start_station_id  : num [1:84776] 86 503 142 216 125 173 35 434 627 377 ...\n",
            " $ end_station_name  : chr [1:84776] \"Lincoln Ave & Diversey Pkwy\" \"Kosciuszko Park\" \"Indiana Ave & Roosevelt Rd\" \"Wood St & Augusta Blvd\" ...\n",
            " $ end_station_id    : num [1:84776] 152 499 255 657 323 35 635 382 359 508 ...\n",
            " $ start_lat         : num [1:84776] 41.9 41.9 41.9 41.9 41.9 ...\n",
            " $ start_lng         : num [1:84776] -87.7 -87.7 -87.6 -87.7 -87.6 ...\n",
            " $ end_lat           : num [1:84776] 41.9 41.9 41.9 41.9 42 ...\n",
            " $ end_lng           : num [1:84776] -87.7 -87.7 -87.6 -87.7 -87.7 ...\n",
            " $ member_casual     : chr [1:84776] \"member\" \"member\" \"member\" \"member\" ...\n",
            " - attr(*, \"spec\")=\n",
            "  .. cols(\n",
            "  ..   ride_id = \u001b[31mcol_character()\u001b[39m,\n",
            "  ..   rideable_type = \u001b[31mcol_character()\u001b[39m,\n",
            "  ..   started_at = \u001b[34mcol_datetime(format = \"\")\u001b[39m,\n",
            "  ..   ended_at = \u001b[34mcol_datetime(format = \"\")\u001b[39m,\n",
            "  ..   start_station_name = \u001b[31mcol_character()\u001b[39m,\n",
            "  ..   start_station_id = \u001b[32mcol_double()\u001b[39m,\n",
            "  ..   end_station_name = \u001b[31mcol_character()\u001b[39m,\n",
            "  ..   end_station_id = \u001b[32mcol_double()\u001b[39m,\n",
            "  ..   start_lat = \u001b[32mcol_double()\u001b[39m,\n",
            "  ..   start_lng = \u001b[32mcol_double()\u001b[39m,\n",
            "  ..   end_lat = \u001b[32mcol_double()\u001b[39m,\n",
            "  ..   end_lng = \u001b[32mcol_double()\u001b[39m,\n",
            "  ..   member_casual = \u001b[31mcol_character()\u001b[39m\n",
            "  .. )\n",
            "spec_tbl_df [200,274 × 13] (S3: spec_tbl_df/tbl_df/tbl/data.frame)\n",
            " $ ride_id           : chr [1:200274] \"02668AD35674B983\" \"7A50CCAF1EDDB28F\" \"2FFCDFDB91FE9A52\" \"58991CF1DB75BA84\" ...\n",
            " $ rideable_type     : chr [1:200274] \"docked_bike\" \"docked_bike\" \"docked_bike\" \"docked_bike\" ...\n",
            " $ started_at        : POSIXct[1:200274], format: \"2020-05-27 10:03:52\" \"2020-05-25 10:47:11\" ...\n",
            " $ ended_at          : POSIXct[1:200274], format: \"2020-05-27 10:16:49\" \"2020-05-25 11:05:40\" ...\n",
            " $ start_station_name: chr [1:200274] \"Franklin St & Jackson Blvd\" \"Clark St & Wrightwood Ave\" \"Kedzie Ave & Milwaukee Ave\" \"Clarendon Ave & Leland Ave\" ...\n",
            " $ start_station_id  : num [1:200274] 36 340 260 251 261 206 261 180 331 219 ...\n",
            " $ end_station_name  : chr [1:200274] \"Wabash Ave & Grand Ave\" \"Clark St & Leland Ave\" \"Kedzie Ave & Milwaukee Ave\" \"Lake Shore Dr & Wellington Ave\" ...\n",
            " $ end_station_id    : num [1:200274] 199 326 260 157 206 22 261 180 300 305 ...\n",
            " $ start_lat         : num [1:200274] 41.9 41.9 41.9 42 41.9 ...\n",
            " $ start_lng         : num [1:200274] -87.6 -87.6 -87.7 -87.7 -87.7 ...\n",
            " $ end_lat           : num [1:200274] 41.9 42 41.9 41.9 41.8 ...\n",
            " $ end_lng           : num [1:200274] -87.6 -87.7 -87.7 -87.6 -87.6 ...\n",
            " $ member_casual     : chr [1:200274] \"member\" \"casual\" \"casual\" \"casual\" ...\n",
            " - attr(*, \"spec\")=\n",
            "  .. cols(\n",
            "  ..   ride_id = \u001b[31mcol_character()\u001b[39m,\n",
            "  ..   rideable_type = \u001b[31mcol_character()\u001b[39m,\n",
            "  ..   started_at = \u001b[34mcol_datetime(format = \"\")\u001b[39m,\n",
            "  ..   ended_at = \u001b[34mcol_datetime(format = \"\")\u001b[39m,\n",
            "  ..   start_station_name = \u001b[31mcol_character()\u001b[39m,\n",
            "  ..   start_station_id = \u001b[32mcol_double()\u001b[39m,\n",
            "  ..   end_station_name = \u001b[31mcol_character()\u001b[39m,\n",
            "  ..   end_station_id = \u001b[32mcol_double()\u001b[39m,\n",
            "  ..   start_lat = \u001b[32mcol_double()\u001b[39m,\n",
            "  ..   start_lng = \u001b[32mcol_double()\u001b[39m,\n",
            "  ..   end_lat = \u001b[32mcol_double()\u001b[39m,\n",
            "  ..   end_lng = \u001b[32mcol_double()\u001b[39m,\n",
            "  ..   member_casual = \u001b[31mcol_character()\u001b[39m\n",
            "  .. )\n",
            "spec_tbl_df [242,430 × 13] (S3: spec_tbl_df/tbl_df/tbl/data.frame)\n",
            " $ ride_id           : chr [1:242430] \"8CD5DE2C2B6C4CFC\" \"9A191EB2C751D85D\" \"F37D14B0B5659BCF\" \"C41237B506E85FA1\" ...\n",
            " $ rideable_type     : chr [1:242430] \"docked_bike\" \"docked_bike\" \"docked_bike\" \"docked_bike\" ...\n",
            " $ started_at        : POSIXct[1:242430], format: \"2020-06-13 23:24:48\" \"2020-06-26 07:26:10\" ...\n",
            " $ ended_at          : POSIXct[1:242430], format: \"2020-06-13 23:36:55\" \"2020-06-26 07:31:58\" ...\n",
            " $ start_station_name: chr [1:242430] \"Wilton Ave & Belmont Ave\" \"Federal St & Polk St\" \"Daley Center Plaza\" \"Broadway & Cornelia Ave\" ...\n",
            " $ start_station_id  : num [1:242430] 117 41 81 303 327 327 41 115 338 84 ...\n",
            " $ end_station_name  : chr [1:242430] \"Damen Ave & Clybourn Ave\" \"Daley Center Plaza\" \"State St & Harrison St\" \"Broadway & Berwyn Ave\" ...\n",
            " $ end_station_id    : num [1:242430] 163 81 5 294 117 117 81 303 164 53 ...\n",
            " $ start_lat         : num [1:242430] 41.9 41.9 41.9 41.9 41.9 ...\n",
            " $ start_lng         : num [1:242430] -87.7 -87.6 -87.6 -87.6 -87.7 ...\n",
            " $ end_lat           : num [1:242430] 41.9 41.9 41.9 42 41.9 ...\n",
            " $ end_lng           : num [1:242430] -87.7 -87.6 -87.6 -87.7 -87.7 ...\n",
            " $ member_casual     : chr [1:242430] \"casual\" \"member\" \"member\" \"casual\" ...\n",
            " - attr(*, \"problems\")= tibble [1 × 5] (S3: tbl_df/tbl/data.frame)\n",
            "  ..$ row     : int 242430\n",
            "  ..$ col     : chr NA\n",
            "  ..$ expected: chr \"13 columns\"\n",
            "  ..$ actual  : chr \"3 columns\"\n",
            "  ..$ file    : chr \"'202006-divvy-tripdata.csv'\"\n",
            " - attr(*, \"spec\")=\n",
            "  .. cols(\n",
            "  ..   ride_id = \u001b[31mcol_character()\u001b[39m,\n",
            "  ..   rideable_type = \u001b[31mcol_character()\u001b[39m,\n",
            "  ..   started_at = \u001b[34mcol_datetime(format = \"\")\u001b[39m,\n",
            "  ..   ended_at = \u001b[34mcol_datetime(format = \"\")\u001b[39m,\n",
            "  ..   start_station_name = \u001b[31mcol_character()\u001b[39m,\n",
            "  ..   start_station_id = \u001b[32mcol_double()\u001b[39m,\n",
            "  ..   end_station_name = \u001b[31mcol_character()\u001b[39m,\n",
            "  ..   end_station_id = \u001b[32mcol_double()\u001b[39m,\n",
            "  ..   start_lat = \u001b[32mcol_double()\u001b[39m,\n",
            "  ..   start_lng = \u001b[32mcol_double()\u001b[39m,\n",
            "  ..   end_lat = \u001b[32mcol_double()\u001b[39m,\n",
            "  ..   end_lng = \u001b[32mcol_double()\u001b[39m,\n",
            "  ..   member_casual = \u001b[31mcol_character()\u001b[39m\n",
            "  .. )\n",
            "spec_tbl_df [236,781 × 13] (S3: spec_tbl_df/tbl_df/tbl/data.frame)\n",
            " $ ride_id           : chr [1:236781] \"762198876D69004D\" \"BEC9C9FBA0D4CF1B\" \"D2FD8EA432C77EC1\" \"54AE594E20B35881\" ...\n",
            " $ rideable_type     : chr [1:236781] \"docked_bike\" \"docked_bike\" \"docked_bike\" \"docked_bike\" ...\n",
            " $ started_at        : POSIXct[1:236781], format: \"2020-07-09 15:22:02\" \"2020-07-24 23:56:30\" ...\n",
            " $ ended_at          : POSIXct[1:236781], format: \"2020-07-09 15:25:52\" \"2020-07-25 00:20:17\" ...\n",
            " $ start_station_name: chr [1:236781] \"Ritchie Ct & Banks St\" \"Halsted St & Roscoe St\" \"Lake Shore Dr & Diversey Pkwy\" \"LaSalle St & Illinois St\" ...\n",
            " $ start_station_id  : num [1:236781] 180 299 329 181 268 635 113 211 176 31 ...\n",
            " $ end_station_name  : chr [1:236781] \"Wells St & Evergreen Ave\" \"Broadway & Ridge Ave\" \"Clark St & Wellington Ave\" \"Clark St & Armitage Ave\" ...\n",
            " $ end_station_id    : num [1:236781] 291 461 156 94 301 289 140 31 191 142 ...\n",
            " $ start_lat         : num [1:236781] 41.9 41.9 41.9 41.9 41.9 ...\n",
            " $ start_lng         : num [1:236781] -87.6 -87.6 -87.6 -87.6 -87.6 ...\n",
            " $ end_lat           : num [1:236781] 41.9 42 41.9 41.9 41.9 ...\n",
            " $ end_lng           : num [1:236781] -87.6 -87.7 -87.6 -87.6 -87.6 ...\n",
            " $ member_casual     : chr [1:236781] \"member\" \"member\" \"casual\" \"casual\" ...\n",
            " - attr(*, \"problems\")= tibble [1 × 5] (S3: tbl_df/tbl/data.frame)\n",
            "  ..$ row     : int 236781\n",
            "  ..$ col     : chr NA\n",
            "  ..$ expected: chr \"13 columns\"\n",
            "  ..$ actual  : chr \"9 columns\"\n",
            "  ..$ file    : chr \"'202007-divvy-tripdata.csv'\"\n",
            " - attr(*, \"spec\")=\n",
            "  .. cols(\n",
            "  ..   ride_id = \u001b[31mcol_character()\u001b[39m,\n",
            "  ..   rideable_type = \u001b[31mcol_character()\u001b[39m,\n",
            "  ..   started_at = \u001b[34mcol_datetime(format = \"\")\u001b[39m,\n",
            "  ..   ended_at = \u001b[34mcol_datetime(format = \"\")\u001b[39m,\n",
            "  ..   start_station_name = \u001b[31mcol_character()\u001b[39m,\n",
            "  ..   start_station_id = \u001b[32mcol_double()\u001b[39m,\n",
            "  ..   end_station_name = \u001b[31mcol_character()\u001b[39m,\n",
            "  ..   end_station_id = \u001b[32mcol_double()\u001b[39m,\n",
            "  ..   start_lat = \u001b[32mcol_double()\u001b[39m,\n",
            "  ..   start_lng = \u001b[32mcol_double()\u001b[39m,\n",
            "  ..   end_lat = \u001b[32mcol_double()\u001b[39m,\n",
            "  ..   end_lng = \u001b[32mcol_double()\u001b[39m,\n",
            "  ..   member_casual = \u001b[31mcol_character()\u001b[39m\n",
            "  .. )\n",
            "spec_tbl_df [234,034 × 13] (S3: spec_tbl_df/tbl_df/tbl/data.frame)\n",
            " $ ride_id           : chr [1:234034] \"322BD23D287743ED\" \"2A3AEF1AB9054D8B\" \"67DC1D133E8B5816\" \"C79FBBD412E578A7\" ...\n",
            " $ rideable_type     : chr [1:234034] \"docked_bike\" \"electric_bike\" \"electric_bike\" \"electric_bike\" ...\n",
            " $ started_at        : POSIXct[1:234034], format: \"2020-08-20 18:08:14\" \"2020-08-27 18:46:04\" ...\n",
            " $ ended_at          : POSIXct[1:234034], format: \"2020-08-20 18:17:51\" \"2020-08-27 19:54:51\" ...\n",
            " $ start_station_name: chr [1:234034] \"Lake Shore Dr & Diversey Pkwy\" \"Michigan Ave & 14th St\" \"Columbus Dr & Randolph St\" \"Daley Center Plaza\" ...\n",
            " $ start_station_id  : num [1:234034] 329 168 195 81 658 658 196 67 153 177 ...\n",
            " $ end_station_name  : chr [1:234034] \"Clark St & Lincoln Ave\" \"Michigan Ave & 14th St\" \"State St & Randolph St\" \"State St & Kinzie St\" ...\n",
            " $ end_station_id    : num [1:234034] 141 168 44 47 658 658 49 229 225 305 ...\n",
            " $ start_lat         : num [1:234034] 41.9 41.9 41.9 41.9 41.9 ...\n",
            " $ start_lng         : num [1:234034] -87.6 -87.6 -87.6 -87.6 -87.7 ...\n",
            " $ end_lat           : num [1:234034] 41.9 41.9 41.9 41.9 41.9 ...\n",
            " $ end_lng           : num [1:234034] -87.6 -87.6 -87.6 -87.6 -87.7 ...\n",
            " $ member_casual     : chr [1:234034] \"member\" \"casual\" \"casual\" \"casual\" ...\n",
            " - attr(*, \"problems\")= tibble [1 × 5] (S3: tbl_df/tbl/data.frame)\n",
            "  ..$ row     : int 234034\n",
            "  ..$ col     : chr NA\n",
            "  ..$ expected: chr \"13 columns\"\n",
            "  ..$ actual  : chr \"6 columns\"\n",
            "  ..$ file    : chr \"'202008-divvy-tripdata.csv'\"\n",
            " - attr(*, \"spec\")=\n",
            "  .. cols(\n",
            "  ..   ride_id = \u001b[31mcol_character()\u001b[39m,\n",
            "  ..   rideable_type = \u001b[31mcol_character()\u001b[39m,\n",
            "  ..   started_at = \u001b[34mcol_datetime(format = \"\")\u001b[39m,\n",
            "  ..   ended_at = \u001b[34mcol_datetime(format = \"\")\u001b[39m,\n",
            "  ..   start_station_name = \u001b[31mcol_character()\u001b[39m,\n",
            "  ..   start_station_id = \u001b[32mcol_double()\u001b[39m,\n",
            "  ..   end_station_name = \u001b[31mcol_character()\u001b[39m,\n",
            "  ..   end_station_id = \u001b[32mcol_double()\u001b[39m,\n",
            "  ..   start_lat = \u001b[32mcol_double()\u001b[39m,\n",
            "  ..   start_lng = \u001b[32mcol_double()\u001b[39m,\n",
            "  ..   end_lat = \u001b[32mcol_double()\u001b[39m,\n",
            "  ..   end_lng = \u001b[32mcol_double()\u001b[39m,\n",
            "  ..   member_casual = \u001b[31mcol_character()\u001b[39m\n",
            "  .. )\n",
            "spec_tbl_df [233,618 × 13] (S3: spec_tbl_df/tbl_df/tbl/data.frame)\n",
            " $ ride_id           : chr [1:233618] \"2B22BD5F95FB2629\" \"A7FB70B4AFC6CAF2\" \"86057FA01BAC778E\" \"57F6DC9A153DB98C\" ...\n",
            " $ rideable_type     : chr [1:233618] \"electric_bike\" \"electric_bike\" \"electric_bike\" \"electric_bike\" ...\n",
            " $ started_at        : POSIXct[1:233618], format: \"2020-09-17 14:27:11\" \"2020-09-17 15:07:31\" ...\n",
            " $ ended_at          : POSIXct[1:233618], format: \"2020-09-17 14:44:24\" \"2020-09-17 15:07:45\" ...\n",
            " $ start_station_name: chr [1:233618] \"Michigan Ave & Lake St\" \"W Oakdale Ave & N Broadway\" \"W Oakdale Ave & N Broadway\" \"Ashland Ave & Belle Plaine Ave\" ...\n",
            " $ start_station_id  : num [1:233618] 52 NA NA 246 24 94 291 NA NA NA ...\n",
            " $ end_station_name  : chr [1:233618] \"Green St & Randolph St\" \"W Oakdale Ave & N Broadway\" \"W Oakdale Ave & N Broadway\" \"Montrose Harbor\" ...\n",
            " $ end_station_id    : num [1:233618] 112 NA NA 249 24 NA 256 NA NA NA ...\n",
            " $ start_lat         : num [1:233618] 41.9 41.9 41.9 42 41.9 ...\n",
            " $ start_lng         : num [1:233618] -87.6 -87.6 -87.6 -87.7 -87.6 ...\n",
            " $ end_lat           : num [1:233618] 41.9 41.9 41.9 42 41.9 ...\n",
            " $ end_lng           : num [1:233618] -87.6 -87.6 -87.6 -87.6 -87.6 ...\n",
            " $ member_casual     : chr [1:233618] \"casual\" \"casual\" \"casual\" \"casual\" ...\n",
            " - attr(*, \"spec\")=\n",
            "  .. cols(\n",
            "  ..   ride_id = \u001b[31mcol_character()\u001b[39m,\n",
            "  ..   rideable_type = \u001b[31mcol_character()\u001b[39m,\n",
            "  ..   started_at = \u001b[34mcol_datetime(format = \"\")\u001b[39m,\n",
            "  ..   ended_at = \u001b[34mcol_datetime(format = \"\")\u001b[39m,\n",
            "  ..   start_station_name = \u001b[31mcol_character()\u001b[39m,\n",
            "  ..   start_station_id = \u001b[32mcol_double()\u001b[39m,\n",
            "  ..   end_station_name = \u001b[31mcol_character()\u001b[39m,\n",
            "  ..   end_station_id = \u001b[32mcol_double()\u001b[39m,\n",
            "  ..   start_lat = \u001b[32mcol_double()\u001b[39m,\n",
            "  ..   start_lng = \u001b[32mcol_double()\u001b[39m,\n",
            "  ..   end_lat = \u001b[32mcol_double()\u001b[39m,\n",
            "  ..   end_lng = \u001b[32mcol_double()\u001b[39m,\n",
            "  ..   member_casual = \u001b[31mcol_character()\u001b[39m\n",
            "  .. )\n",
            "spec_tbl_df [234,989 × 13] (S3: spec_tbl_df/tbl_df/tbl/data.frame)\n",
            " $ ride_id           : chr [1:234989] \"ACB6B40CF5B9044C\" \"DF450C72FD109C01\" \"B6396B54A15AC0DF\" \"44A4AEE261B9E854\" ...\n",
            " $ rideable_type     : chr [1:234989] \"electric_bike\" \"electric_bike\" \"electric_bike\" \"electric_bike\" ...\n",
            " $ started_at        : POSIXct[1:234989], format: \"2020-10-31 19:39:43\" \"2020-10-31 23:50:08\" ...\n",
            " $ ended_at          : POSIXct[1:234989], format: \"2020-10-31 19:57:12\" \"2020-11-01 00:04:16\" ...\n",
            " $ start_station_name: chr [1:234989] \"Lakeview Ave & Fullerton Pkwy\" \"Southport Ave & Waveland Ave\" \"Stony Island Ave & 67th St\" \"Clark St & Grace St\" ...\n",
            " $ start_station_id  : num [1:234989] 313 227 102 165 190 359 313 125 NA 174 ...\n",
            " $ end_station_name  : chr [1:234989] \"Rush St & Hubbard St\" \"Kedzie Ave & Milwaukee Ave\" \"University Ave & 57th St\" \"Broadway & Sheridan Rd\" ...\n",
            " $ end_station_id    : num [1:234989] 125 260 423 256 185 53 125 313 199 635 ...\n",
            " $ start_lat         : num [1:234989] 41.9 41.9 41.8 42 41.9 ...\n",
            " $ start_lng         : num [1:234989] -87.6 -87.7 -87.6 -87.7 -87.7 ...\n",
            " $ end_lat           : num [1:234989] 41.9 41.9 41.8 42 41.9 ...\n",
            " $ end_lng           : num [1:234989] -87.6 -87.7 -87.6 -87.7 -87.7 ...\n",
            " $ member_casual     : chr [1:234989] \"casual\" \"casual\" \"casual\" \"casual\" ...\n",
            " - attr(*, \"spec\")=\n",
            "  .. cols(\n",
            "  ..   ride_id = \u001b[31mcol_character()\u001b[39m,\n",
            "  ..   rideable_type = \u001b[31mcol_character()\u001b[39m,\n",
            "  ..   started_at = \u001b[34mcol_datetime(format = \"\")\u001b[39m,\n",
            "  ..   ended_at = \u001b[34mcol_datetime(format = \"\")\u001b[39m,\n",
            "  ..   start_station_name = \u001b[31mcol_character()\u001b[39m,\n",
            "  ..   start_station_id = \u001b[32mcol_double()\u001b[39m,\n",
            "  ..   end_station_name = \u001b[31mcol_character()\u001b[39m,\n",
            "  ..   end_station_id = \u001b[32mcol_double()\u001b[39m,\n",
            "  ..   start_lat = \u001b[32mcol_double()\u001b[39m,\n",
            "  ..   start_lng = \u001b[32mcol_double()\u001b[39m,\n",
            "  ..   end_lat = \u001b[32mcol_double()\u001b[39m,\n",
            "  ..   end_lng = \u001b[32mcol_double()\u001b[39m,\n",
            "  ..   member_casual = \u001b[31mcol_character()\u001b[39m\n",
            "  .. )\n",
            "spec_tbl_df [235,747 × 13] (S3: spec_tbl_df/tbl_df/tbl/data.frame)\n",
            " $ ride_id           : chr [1:235747] \"BD0A6FF6FFF9B921\" \"96A7A7A4BDE4F82D\" \"C61526D06582BDC5\" \"E533E89C32080B9E\" ...\n",
            " $ rideable_type     : chr [1:235747] \"electric_bike\" \"electric_bike\" \"electric_bike\" \"electric_bike\" ...\n",
            " $ started_at        : POSIXct[1:235747], format: \"2020-11-01 13:36:00\" \"2020-11-01 10:03:26\" ...\n",
            " $ ended_at          : POSIXct[1:235747], format: \"2020-11-01 13:45:40\" \"2020-11-01 10:14:45\" ...\n",
            " $ start_station_name: chr [1:235747] \"Dearborn St & Erie St\" \"Franklin St & Illinois St\" \"Lake Shore Dr & Monroe St\" \"Leavitt St & Chicago Ave\" ...\n",
            " $ start_station_id  : num [1:235747] 110 672 76 659 2 72 76 NA 58 394 ...\n",
            " $ end_station_name  : chr [1:235747] \"St. Clair St & Erie St\" \"Noble St & Milwaukee Ave\" \"Federal St & Polk St\" \"Stave St & Armitage Ave\" ...\n",
            " $ end_station_id    : num [1:235747] 211 29 41 185 2 76 72 NA 288 273 ...\n",
            " $ start_lat         : num [1:235747] 41.9 41.9 41.9 41.9 41.9 ...\n",
            " $ start_lng         : num [1:235747] -87.6 -87.6 -87.6 -87.7 -87.6 ...\n",
            " $ end_lat           : num [1:235747] 41.9 41.9 41.9 41.9 41.9 ...\n",
            " $ end_lng           : num [1:235747] -87.6 -87.7 -87.6 -87.7 -87.6 ...\n",
            " $ member_casual     : chr [1:235747] \"casual\" \"casual\" \"casual\" \"casual\" ...\n",
            " - attr(*, \"problems\")= tibble [2 × 5] (S3: tbl_df/tbl/data.frame)\n",
            "  ..$ row     : int [1:2] 235747 235747\n",
            "  ..$ col     : chr [1:2] \"started_at\" NA\n",
            "  ..$ expected: chr [1:2] \"date like \" \"13 columns\"\n",
            "  ..$ actual  : chr [1:2] \"2020\" \"3 columns\"\n",
            "  ..$ file    : chr [1:2] \"'202011-divvy-tripdata.csv'\" \"'202011-divvy-tripdata.csv'\"\n",
            " - attr(*, \"spec\")=\n",
            "  .. cols(\n",
            "  ..   ride_id = \u001b[31mcol_character()\u001b[39m,\n",
            "  ..   rideable_type = \u001b[31mcol_character()\u001b[39m,\n",
            "  ..   started_at = \u001b[34mcol_datetime(format = \"\")\u001b[39m,\n",
            "  ..   ended_at = \u001b[34mcol_datetime(format = \"\")\u001b[39m,\n",
            "  ..   start_station_name = \u001b[31mcol_character()\u001b[39m,\n",
            "  ..   start_station_id = \u001b[32mcol_double()\u001b[39m,\n",
            "  ..   end_station_name = \u001b[31mcol_character()\u001b[39m,\n",
            "  ..   end_station_id = \u001b[32mcol_double()\u001b[39m,\n",
            "  ..   start_lat = \u001b[32mcol_double()\u001b[39m,\n",
            "  ..   start_lng = \u001b[32mcol_double()\u001b[39m,\n",
            "  ..   end_lat = \u001b[32mcol_double()\u001b[39m,\n",
            "  ..   end_lng = \u001b[32mcol_double()\u001b[39m,\n",
            "  ..   member_casual = \u001b[31mcol_character()\u001b[39m\n",
            "  .. )\n",
            "spec_tbl_df [131,573 × 13] (S3: spec_tbl_df/tbl_df/tbl/data.frame)\n",
            " $ ride_id           : chr [1:131573] \"70B6A9A437D4C30D\" \"158A465D4E74C54A\" \"5262016E0F1F2F9A\" \"BE119628E44F871E\" ...\n",
            " $ rideable_type     : chr [1:131573] \"classic_bike\" \"electric_bike\" \"electric_bike\" \"electric_bike\" ...\n",
            " $ started_at        : POSIXct[1:131573], format: \"2020-12-27 12:44:29\" \"2020-12-18 17:37:15\" ...\n",
            " $ ended_at          : POSIXct[1:131573], format: \"2020-12-27 12:55:06\" \"2020-12-18 17:44:19\" ...\n",
            " $ start_station_name: chr [1:131573] \"Aberdeen St & Jackson Blvd\" NA NA NA ...\n",
            " $ start_station_id  : chr [1:131573] \"13157\" NA NA NA ...\n",
            " $ end_station_name  : chr [1:131573] \"Desplaines St & Kinzie St\" NA NA NA ...\n",
            " $ end_station_id    : chr [1:131573] \"TA1306000003\" NA NA NA ...\n",
            " $ start_lat         : num [1:131573] 41.9 41.9 41.9 41.9 41.8 ...\n",
            " $ start_lng         : num [1:131573] -87.7 -87.7 -87.7 -87.7 -87.6 ...\n",
            " $ end_lat           : num [1:131573] 41.9 41.9 41.9 41.9 41.8 ...\n",
            " $ end_lng           : num [1:131573] -87.6 -87.7 -87.7 -87.7 -87.6 ...\n",
            " $ member_casual     : chr [1:131573] \"member\" \"member\" \"member\" \"member\" ...\n",
            " - attr(*, \"spec\")=\n",
            "  .. cols(\n",
            "  ..   ride_id = \u001b[31mcol_character()\u001b[39m,\n",
            "  ..   rideable_type = \u001b[31mcol_character()\u001b[39m,\n",
            "  ..   started_at = \u001b[34mcol_datetime(format = \"\")\u001b[39m,\n",
            "  ..   ended_at = \u001b[34mcol_datetime(format = \"\")\u001b[39m,\n",
            "  ..   start_station_name = \u001b[31mcol_character()\u001b[39m,\n",
            "  ..   start_station_id = \u001b[31mcol_character()\u001b[39m,\n",
            "  ..   end_station_name = \u001b[31mcol_character()\u001b[39m,\n",
            "  ..   end_station_id = \u001b[31mcol_character()\u001b[39m,\n",
            "  ..   start_lat = \u001b[32mcol_double()\u001b[39m,\n",
            "  ..   start_lng = \u001b[32mcol_double()\u001b[39m,\n",
            "  ..   end_lat = \u001b[32mcol_double()\u001b[39m,\n",
            "  ..   end_lng = \u001b[32mcol_double()\u001b[39m,\n",
            "  ..   member_casual = \u001b[31mcol_character()\u001b[39m\n",
            "  .. )\n",
            "spec_tbl_df [96,834 × 13] (S3: spec_tbl_df/tbl_df/tbl/data.frame)\n",
            " $ ride_id           : chr [1:96834] \"E19E6F1B8D4C42ED\" \"DC88F20C2C55F27F\" \"EC45C94683FE3F27\" \"4FA453A75AE377DB\" ...\n",
            " $ rideable_type     : chr [1:96834] \"electric_bike\" \"electric_bike\" \"electric_bike\" \"electric_bike\" ...\n",
            " $ started_at        : POSIXct[1:96834], format: \"2021-01-23 16:14:19\" \"2021-01-27 18:43:08\" ...\n",
            " $ ended_at          : POSIXct[1:96834], format: \"2021-01-23 16:24:44\" \"2021-01-27 18:47:12\" ...\n",
            " $ start_station_name: chr [1:96834] \"California Ave & Cortez St\" \"California Ave & Cortez St\" \"California Ave & Cortez St\" \"California Ave & Cortez St\" ...\n",
            " $ start_station_id  : chr [1:96834] \"17660\" \"17660\" \"17660\" \"17660\" ...\n",
            " $ end_station_name  : chr [1:96834] NA NA NA NA ...\n",
            " $ end_station_id    : chr [1:96834] NA NA NA NA ...\n",
            " $ start_lat         : num [1:96834] 41.9 41.9 41.9 41.9 41.9 ...\n",
            " $ start_lng         : num [1:96834] -87.7 -87.7 -87.7 -87.7 -87.7 ...\n",
            " $ end_lat           : num [1:96834] 41.9 41.9 41.9 41.9 41.9 ...\n",
            " $ end_lng           : num [1:96834] -87.7 -87.7 -87.7 -87.7 -87.7 ...\n",
            " $ member_casual     : chr [1:96834] \"member\" \"member\" \"member\" \"member\" ...\n",
            " - attr(*, \"spec\")=\n",
            "  .. cols(\n",
            "  ..   ride_id = \u001b[31mcol_character()\u001b[39m,\n",
            "  ..   rideable_type = \u001b[31mcol_character()\u001b[39m,\n",
            "  ..   started_at = \u001b[34mcol_datetime(format = \"\")\u001b[39m,\n",
            "  ..   ended_at = \u001b[34mcol_datetime(format = \"\")\u001b[39m,\n",
            "  ..   start_station_name = \u001b[31mcol_character()\u001b[39m,\n",
            "  ..   start_station_id = \u001b[31mcol_character()\u001b[39m,\n",
            "  ..   end_station_name = \u001b[31mcol_character()\u001b[39m,\n",
            "  ..   end_station_id = \u001b[31mcol_character()\u001b[39m,\n",
            "  ..   start_lat = \u001b[32mcol_double()\u001b[39m,\n",
            "  ..   start_lng = \u001b[32mcol_double()\u001b[39m,\n",
            "  ..   end_lat = \u001b[32mcol_double()\u001b[39m,\n",
            "  ..   end_lng = \u001b[32mcol_double()\u001b[39m,\n",
            "  ..   member_casual = \u001b[31mcol_character()\u001b[39m\n",
            "  .. )\n",
            "spec_tbl_df [49,622 × 13] (S3: spec_tbl_df/tbl_df/tbl/data.frame)\n",
            " $ ride_id           : chr [1:49622] \"89E7AA6C29227EFF\" \"0FEFDE2603568365\" \"E6159D746B2DBB91\" \"B32D3199F1C2E75B\" ...\n",
            " $ rideable_type     : chr [1:49622] \"classic_bike\" \"classic_bike\" \"electric_bike\" \"classic_bike\" ...\n",
            " $ started_at        : POSIXct[1:49622], format: \"2021-02-12 16:14:56\" \"2021-02-14 17:52:38\" ...\n",
            " $ ended_at          : POSIXct[1:49622], format: \"2021-02-12 16:21:43\" \"2021-02-14 18:12:09\" ...\n",
            " $ start_station_name: chr [1:49622] \"Glenwood Ave & Touhy Ave\" \"Glenwood Ave & Touhy Ave\" \"Clark St & Lake St\" \"Wood St & Chicago Ave\" ...\n",
            " $ start_station_id  : chr [1:49622] \"525\" \"525\" \"KA1503000012\" \"637\" ...\n",
            " $ end_station_name  : chr [1:49622] \"Sheridan Rd & Columbia Ave\" \"Bosworth Ave & Howard St\" \"State St & Randolph St\" \"Honore St & Division St\" ...\n",
            " $ end_station_id    : chr [1:49622] \"660\" \"16806\" \"TA1305000029\" \"TA1305000034\" ...\n",
            " $ start_lat         : num [1:49622] 42 42 41.9 41.9 41.8 ...\n",
            " $ start_lng         : num [1:49622] -87.7 -87.7 -87.6 -87.7 -87.6 ...\n",
            " $ end_lat           : num [1:49622] 42 42 41.9 41.9 41.8 ...\n",
            " $ end_lng           : num [1:49622] -87.7 -87.7 -87.6 -87.7 -87.6 ...\n",
            " $ member_casual     : chr [1:49622] \"member\" \"casual\" \"member\" \"member\" ...\n",
            " - attr(*, \"spec\")=\n",
            "  .. cols(\n",
            "  ..   ride_id = \u001b[31mcol_character()\u001b[39m,\n",
            "  ..   rideable_type = \u001b[31mcol_character()\u001b[39m,\n",
            "  ..   started_at = \u001b[34mcol_datetime(format = \"\")\u001b[39m,\n",
            "  ..   ended_at = \u001b[34mcol_datetime(format = \"\")\u001b[39m,\n",
            "  ..   start_station_name = \u001b[31mcol_character()\u001b[39m,\n",
            "  ..   start_station_id = \u001b[31mcol_character()\u001b[39m,\n",
            "  ..   end_station_name = \u001b[31mcol_character()\u001b[39m,\n",
            "  ..   end_station_id = \u001b[31mcol_character()\u001b[39m,\n",
            "  ..   start_lat = \u001b[32mcol_double()\u001b[39m,\n",
            "  ..   start_lng = \u001b[32mcol_double()\u001b[39m,\n",
            "  ..   end_lat = \u001b[32mcol_double()\u001b[39m,\n",
            "  ..   end_lng = \u001b[32mcol_double()\u001b[39m,\n",
            "  ..   member_casual = \u001b[31mcol_character()\u001b[39m\n",
            "  .. )\n",
            "spec_tbl_df [219,886 × 13] (S3: spec_tbl_df/tbl_df/tbl/data.frame)\n",
            " $ ride_id           : chr [1:219886] \"CFA86D4455AA1030\" \"30D9DC61227D1AF3\" \"846D87A15682A284\" \"994D05AA75A168F2\" ...\n",
            " $ rideable_type     : chr [1:219886] \"classic_bike\" \"classic_bike\" \"classic_bike\" \"classic_bike\" ...\n",
            " $ started_at        : POSIXct[1:219886], format: \"2021-03-16 08:32:30\" \"2021-03-28 01:26:28\" ...\n",
            " $ ended_at          : POSIXct[1:219886], format: \"2021-03-16 08:36:34\" \"2021-03-28 01:36:55\" ...\n",
            " $ start_station_name: chr [1:219886] \"Humboldt Blvd & Armitage Ave\" \"Humboldt Blvd & Armitage Ave\" \"Shields Ave & 28th Pl\" \"Winthrop Ave & Lawrence Ave\" ...\n",
            " $ start_station_id  : chr [1:219886] \"15651\" \"15651\" \"15443\" \"TA1308000021\" ...\n",
            " $ end_station_name  : chr [1:219886] \"Stave St & Armitage Ave\" \"Central Park Ave & Bloomingdale Ave\" \"Halsted St & 35th St\" \"Broadway & Sheridan Rd\" ...\n",
            " $ end_station_id    : chr [1:219886] \"13266\" \"18017\" \"TA1308000043\" \"13323\" ...\n",
            " $ start_lat         : num [1:219886] 41.9 41.9 41.8 42 42 ...\n",
            " $ start_lng         : num [1:219886] -87.7 -87.7 -87.6 -87.7 -87.7 ...\n",
            " $ end_lat           : num [1:219886] 41.9 41.9 41.8 42 42.1 ...\n",
            " $ end_lng           : num [1:219886] -87.7 -87.7 -87.6 -87.6 -87.7 ...\n",
            " $ member_casual     : chr [1:219886] \"casual\" \"casual\" \"casual\" \"casual\" ...\n",
            " - attr(*, \"problems\")= tibble [1 × 5] (S3: tbl_df/tbl/data.frame)\n",
            "  ..$ row     : int 219886\n",
            "  ..$ col     : chr NA\n",
            "  ..$ expected: chr \"13 columns\"\n",
            "  ..$ actual  : chr \"7 columns\"\n",
            "  ..$ file    : chr \"'202103-divvy-tripdata.csv'\"\n",
            " - attr(*, \"spec\")=\n",
            "  .. cols(\n",
            "  ..   ride_id = \u001b[31mcol_character()\u001b[39m,\n",
            "  ..   rideable_type = \u001b[31mcol_character()\u001b[39m,\n",
            "  ..   started_at = \u001b[34mcol_datetime(format = \"\")\u001b[39m,\n",
            "  ..   ended_at = \u001b[34mcol_datetime(format = \"\")\u001b[39m,\n",
            "  ..   start_station_name = \u001b[31mcol_character()\u001b[39m,\n",
            "  ..   start_station_id = \u001b[31mcol_character()\u001b[39m,\n",
            "  ..   end_station_name = \u001b[31mcol_character()\u001b[39m,\n",
            "  ..   end_station_id = \u001b[31mcol_character()\u001b[39m,\n",
            "  ..   start_lat = \u001b[32mcol_double()\u001b[39m,\n",
            "  ..   start_lng = \u001b[32mcol_double()\u001b[39m,\n",
            "  ..   end_lat = \u001b[32mcol_double()\u001b[39m,\n",
            "  ..   end_lng = \u001b[32mcol_double()\u001b[39m,\n",
            "  ..   member_casual = \u001b[31mcol_character()\u001b[39m\n",
            "  .. )\n"
          ],
          "name": "stdout"
        }
      ]
    },
    {
      "cell_type": "code",
      "metadata": {
        "id": "F-N76Wm47-Jt"
      },
      "source": [
        "data_202004 <- data_202004 %>% mutate(start_station_id = as.factor(start_station_id), end_station_id = as.factor(end_station_id))\n",
        "data_202005 <- data_202005 %>% mutate(start_station_id = as.factor(start_station_id), end_station_id = as.factor(end_station_id))\n",
        "data_202006 <- data_202006 %>% mutate(start_station_id = as.factor(start_station_id), end_station_id = as.factor(end_station_id))\n",
        "data_202007 <- data_202007 %>% mutate(start_station_id = as.factor(start_station_id), end_station_id = as.factor(end_station_id))\n",
        "data_202008 <- data_202008 %>% mutate(start_station_id = as.factor(start_station_id), end_station_id = as.factor(end_station_id))\n",
        "data_202009 <- data_202009 %>% mutate(start_station_id = as.factor(start_station_id), end_station_id = as.factor(end_station_id))\n",
        "data_202010 <- data_202010 %>% mutate(start_station_id = as.factor(start_station_id), end_station_id = as.factor(end_station_id))\n",
        "data_202011 <- data_202011 %>% mutate(start_station_id = as.factor(start_station_id), end_station_id = as.factor(end_station_id))"
      ],
      "execution_count": 6,
      "outputs": []
    },
    {
      "cell_type": "code",
      "metadata": {
        "colab": {
          "base_uri": "https://localhost:8080/",
          "height": 503
        },
        "id": "SUoMhmRe9Nxo",
        "outputId": "5da3a592-a669-4fe9-86e4-ee37a9ac10f4"
      },
      "source": [
        "all_data <- \n",
        "  rbind(data_202004,data_202005,data_202006,data_202007,data_202008,data_202009,\n",
        "        data_202010,data_202011,data_202012,data_202101,data_202102,data_202103)\n",
        "head(all_data)"
      ],
      "execution_count": 10,
      "outputs": [
        {
          "output_type": "display_data",
          "data": {
            "text/plain": [
              "  ride_id          rideable_type started_at          ended_at           \n",
              "1 A847FADBBC638E45 docked_bike   2020-04-26 17:45:14 2020-04-26 18:12:03\n",
              "2 5405B80E996FF60D docked_bike   2020-04-17 17:08:54 2020-04-17 17:17:03\n",
              "3 5DD24A79A4E006F4 docked_bike   2020-04-01 17:54:13 2020-04-01 18:08:36\n",
              "4 2A59BBDF5CDBA725 docked_bike   2020-04-07 12:50:19 2020-04-07 13:02:31\n",
              "5 27AD306C119C6158 docked_bike   2020-04-18 10:22:59 2020-04-18 11:15:54\n",
              "6 356216E875132F61 docked_bike   2020-04-30 17:55:47 2020-04-30 18:01:11\n",
              "  start_station_name                  start_station_id\n",
              "1 Eckhart Park                        86              \n",
              "2 Drake Ave & Fullerton Ave           503             \n",
              "3 McClurg Ct & Erie St                142             \n",
              "4 California Ave & Division St        216             \n",
              "5 Rush St & Hubbard St                125             \n",
              "6 Mies van der Rohe Way & Chicago Ave 173             \n",
              "  end_station_name            end_station_id start_lat start_lng end_lat\n",
              "1 Lincoln Ave & Diversey Pkwy 152            41.8964   -87.6610  41.9322\n",
              "2 Kosciuszko Park             499            41.9244   -87.7154  41.9306\n",
              "3 Indiana Ave & Roosevelt Rd  255            41.8945   -87.6179  41.8679\n",
              "4 Wood St & Augusta Blvd      657            41.9030   -87.6975  41.8992\n",
              "5 Sheridan Rd & Lawrence Ave  323            41.8902   -87.6262  41.9695\n",
              "6 Streeter Dr & Grand Ave     35             41.8969   -87.6217  41.8923\n",
              "  end_lng  member_casual\n",
              "1 -87.6586 member       \n",
              "2 -87.7238 member       \n",
              "3 -87.6230 member       \n",
              "4 -87.6722 member       \n",
              "5 -87.6547 casual       \n",
              "6 -87.6120 member       "
            ],
            "text/latex": "A tibble: 6 × 13\n\\begin{tabular}{lllllllllllll}\n ride\\_id & rideable\\_type & started\\_at & ended\\_at & start\\_station\\_name & start\\_station\\_id & end\\_station\\_name & end\\_station\\_id & start\\_lat & start\\_lng & end\\_lat & end\\_lng & member\\_casual\\\\\n <chr> & <chr> & <dttm> & <dttm> & <chr> & <fct> & <chr> & <fct> & <dbl> & <dbl> & <dbl> & <dbl> & <chr>\\\\\n\\hline\n\t A847FADBBC638E45 & docked\\_bike & 2020-04-26 17:45:14 & 2020-04-26 18:12:03 & Eckhart Park                        & 86  & Lincoln Ave \\& Diversey Pkwy & 152 & 41.8964 & -87.6610 & 41.9322 & -87.6586 & member\\\\\n\t 5405B80E996FF60D & docked\\_bike & 2020-04-17 17:08:54 & 2020-04-17 17:17:03 & Drake Ave \\& Fullerton Ave           & 503 & Kosciuszko Park             & 499 & 41.9244 & -87.7154 & 41.9306 & -87.7238 & member\\\\\n\t 5DD24A79A4E006F4 & docked\\_bike & 2020-04-01 17:54:13 & 2020-04-01 18:08:36 & McClurg Ct \\& Erie St                & 142 & Indiana Ave \\& Roosevelt Rd  & 255 & 41.8945 & -87.6179 & 41.8679 & -87.6230 & member\\\\\n\t 2A59BBDF5CDBA725 & docked\\_bike & 2020-04-07 12:50:19 & 2020-04-07 13:02:31 & California Ave \\& Division St        & 216 & Wood St \\& Augusta Blvd      & 657 & 41.9030 & -87.6975 & 41.8992 & -87.6722 & member\\\\\n\t 27AD306C119C6158 & docked\\_bike & 2020-04-18 10:22:59 & 2020-04-18 11:15:54 & Rush St \\& Hubbard St                & 125 & Sheridan Rd \\& Lawrence Ave  & 323 & 41.8902 & -87.6262 & 41.9695 & -87.6547 & casual\\\\\n\t 356216E875132F61 & docked\\_bike & 2020-04-30 17:55:47 & 2020-04-30 18:01:11 & Mies van der Rohe Way \\& Chicago Ave & 173 & Streeter Dr \\& Grand Ave     & 35  & 41.8969 & -87.6217 & 41.8923 & -87.6120 & member\\\\\n\\end{tabular}\n",
            "text/markdown": "\nA tibble: 6 × 13\n\n| ride_id &lt;chr&gt; | rideable_type &lt;chr&gt; | started_at &lt;dttm&gt; | ended_at &lt;dttm&gt; | start_station_name &lt;chr&gt; | start_station_id &lt;fct&gt; | end_station_name &lt;chr&gt; | end_station_id &lt;fct&gt; | start_lat &lt;dbl&gt; | start_lng &lt;dbl&gt; | end_lat &lt;dbl&gt; | end_lng &lt;dbl&gt; | member_casual &lt;chr&gt; |\n|---|---|---|---|---|---|---|---|---|---|---|---|---|\n| A847FADBBC638E45 | docked_bike | 2020-04-26 17:45:14 | 2020-04-26 18:12:03 | Eckhart Park                        | 86  | Lincoln Ave &amp; Diversey Pkwy | 152 | 41.8964 | -87.6610 | 41.9322 | -87.6586 | member |\n| 5405B80E996FF60D | docked_bike | 2020-04-17 17:08:54 | 2020-04-17 17:17:03 | Drake Ave &amp; Fullerton Ave           | 503 | Kosciuszko Park             | 499 | 41.9244 | -87.7154 | 41.9306 | -87.7238 | member |\n| 5DD24A79A4E006F4 | docked_bike | 2020-04-01 17:54:13 | 2020-04-01 18:08:36 | McClurg Ct &amp; Erie St                | 142 | Indiana Ave &amp; Roosevelt Rd  | 255 | 41.8945 | -87.6179 | 41.8679 | -87.6230 | member |\n| 2A59BBDF5CDBA725 | docked_bike | 2020-04-07 12:50:19 | 2020-04-07 13:02:31 | California Ave &amp; Division St        | 216 | Wood St &amp; Augusta Blvd      | 657 | 41.9030 | -87.6975 | 41.8992 | -87.6722 | member |\n| 27AD306C119C6158 | docked_bike | 2020-04-18 10:22:59 | 2020-04-18 11:15:54 | Rush St &amp; Hubbard St                | 125 | Sheridan Rd &amp; Lawrence Ave  | 323 | 41.8902 | -87.6262 | 41.9695 | -87.6547 | casual |\n| 356216E875132F61 | docked_bike | 2020-04-30 17:55:47 | 2020-04-30 18:01:11 | Mies van der Rohe Way &amp; Chicago Ave | 173 | Streeter Dr &amp; Grand Ave     | 35  | 41.8969 | -87.6217 | 41.8923 | -87.6120 | member |\n\n",
            "text/html": [
              "<table class=\"dataframe\">\n",
              "<caption>A tibble: 6 × 13</caption>\n",
              "<thead>\n",
              "\t<tr><th scope=col>ride_id</th><th scope=col>rideable_type</th><th scope=col>started_at</th><th scope=col>ended_at</th><th scope=col>start_station_name</th><th scope=col>start_station_id</th><th scope=col>end_station_name</th><th scope=col>end_station_id</th><th scope=col>start_lat</th><th scope=col>start_lng</th><th scope=col>end_lat</th><th scope=col>end_lng</th><th scope=col>member_casual</th></tr>\n",
              "\t<tr><th scope=col>&lt;chr&gt;</th><th scope=col>&lt;chr&gt;</th><th scope=col>&lt;dttm&gt;</th><th scope=col>&lt;dttm&gt;</th><th scope=col>&lt;chr&gt;</th><th scope=col>&lt;fct&gt;</th><th scope=col>&lt;chr&gt;</th><th scope=col>&lt;fct&gt;</th><th scope=col>&lt;dbl&gt;</th><th scope=col>&lt;dbl&gt;</th><th scope=col>&lt;dbl&gt;</th><th scope=col>&lt;dbl&gt;</th><th scope=col>&lt;chr&gt;</th></tr>\n",
              "</thead>\n",
              "<tbody>\n",
              "\t<tr><td>A847FADBBC638E45</td><td>docked_bike</td><td>2020-04-26 17:45:14</td><td>2020-04-26 18:12:03</td><td><span style=white-space:pre-wrap>Eckhart Park                       </span></td><td>86 </td><td>Lincoln Ave &amp; Diversey Pkwy</td><td>152</td><td>41.8964</td><td>-87.6610</td><td>41.9322</td><td>-87.6586</td><td>member</td></tr>\n",
              "\t<tr><td>5405B80E996FF60D</td><td>docked_bike</td><td>2020-04-17 17:08:54</td><td>2020-04-17 17:17:03</td><td><span style=white-space:pre-wrap>Drake Ave &amp; Fullerton Ave          </span></td><td>503</td><td><span style=white-space:pre-wrap>Kosciuszko Park            </span></td><td>499</td><td>41.9244</td><td>-87.7154</td><td>41.9306</td><td>-87.7238</td><td>member</td></tr>\n",
              "\t<tr><td>5DD24A79A4E006F4</td><td>docked_bike</td><td>2020-04-01 17:54:13</td><td>2020-04-01 18:08:36</td><td><span style=white-space:pre-wrap>McClurg Ct &amp; Erie St               </span></td><td>142</td><td>Indiana Ave &amp; Roosevelt Rd </td><td>255</td><td>41.8945</td><td>-87.6179</td><td>41.8679</td><td>-87.6230</td><td>member</td></tr>\n",
              "\t<tr><td>2A59BBDF5CDBA725</td><td>docked_bike</td><td>2020-04-07 12:50:19</td><td>2020-04-07 13:02:31</td><td><span style=white-space:pre-wrap>California Ave &amp; Division St       </span></td><td>216</td><td><span style=white-space:pre-wrap>Wood St &amp; Augusta Blvd     </span></td><td>657</td><td>41.9030</td><td>-87.6975</td><td>41.8992</td><td>-87.6722</td><td>member</td></tr>\n",
              "\t<tr><td>27AD306C119C6158</td><td>docked_bike</td><td>2020-04-18 10:22:59</td><td>2020-04-18 11:15:54</td><td><span style=white-space:pre-wrap>Rush St &amp; Hubbard St               </span></td><td>125</td><td>Sheridan Rd &amp; Lawrence Ave </td><td>323</td><td>41.8902</td><td>-87.6262</td><td>41.9695</td><td>-87.6547</td><td>casual</td></tr>\n",
              "\t<tr><td>356216E875132F61</td><td>docked_bike</td><td>2020-04-30 17:55:47</td><td>2020-04-30 18:01:11</td><td>Mies van der Rohe Way &amp; Chicago Ave</td><td>173</td><td><span style=white-space:pre-wrap>Streeter Dr &amp; Grand Ave    </span></td><td>35 </td><td>41.8969</td><td>-87.6217</td><td>41.8923</td><td>-87.6120</td><td>member</td></tr>\n",
              "</tbody>\n",
              "</table>\n"
            ]
          },
          "metadata": {
            "tags": []
          }
        }
      ]
    },
    {
      "cell_type": "code",
      "metadata": {
        "colab": {
          "base_uri": "https://localhost:8080/",
          "height": 382
        },
        "id": "pOHuMvOa9Ta_",
        "outputId": "7ae08b44-d0ea-430a-84db-fd871ae73c2d"
      },
      "source": [
        "all_data_v2 <- all_data %>%\n",
        "  select(-(start_lat:end_lng))\n",
        "head(all_data_v2)"
      ],
      "execution_count": 15,
      "outputs": [
        {
          "output_type": "display_data",
          "data": {
            "text/plain": [
              "  ride_id          rideable_type started_at          ended_at           \n",
              "1 A847FADBBC638E45 docked_bike   2020-04-26 17:45:14 2020-04-26 18:12:03\n",
              "2 5405B80E996FF60D docked_bike   2020-04-17 17:08:54 2020-04-17 17:17:03\n",
              "3 5DD24A79A4E006F4 docked_bike   2020-04-01 17:54:13 2020-04-01 18:08:36\n",
              "4 2A59BBDF5CDBA725 docked_bike   2020-04-07 12:50:19 2020-04-07 13:02:31\n",
              "5 27AD306C119C6158 docked_bike   2020-04-18 10:22:59 2020-04-18 11:15:54\n",
              "6 356216E875132F61 docked_bike   2020-04-30 17:55:47 2020-04-30 18:01:11\n",
              "  start_station_name                  start_station_id\n",
              "1 Eckhart Park                        86              \n",
              "2 Drake Ave & Fullerton Ave           503             \n",
              "3 McClurg Ct & Erie St                142             \n",
              "4 California Ave & Division St        216             \n",
              "5 Rush St & Hubbard St                125             \n",
              "6 Mies van der Rohe Way & Chicago Ave 173             \n",
              "  end_station_name            end_station_id member_casual\n",
              "1 Lincoln Ave & Diversey Pkwy 152            member       \n",
              "2 Kosciuszko Park             499            member       \n",
              "3 Indiana Ave & Roosevelt Rd  255            member       \n",
              "4 Wood St & Augusta Blvd      657            member       \n",
              "5 Sheridan Rd & Lawrence Ave  323            casual       \n",
              "6 Streeter Dr & Grand Ave     35             member       "
            ],
            "text/latex": "A tibble: 6 × 9\n\\begin{tabular}{lllllllll}\n ride\\_id & rideable\\_type & started\\_at & ended\\_at & start\\_station\\_name & start\\_station\\_id & end\\_station\\_name & end\\_station\\_id & member\\_casual\\\\\n <chr> & <chr> & <dttm> & <dttm> & <chr> & <fct> & <chr> & <fct> & <chr>\\\\\n\\hline\n\t A847FADBBC638E45 & docked\\_bike & 2020-04-26 17:45:14 & 2020-04-26 18:12:03 & Eckhart Park                        & 86  & Lincoln Ave \\& Diversey Pkwy & 152 & member\\\\\n\t 5405B80E996FF60D & docked\\_bike & 2020-04-17 17:08:54 & 2020-04-17 17:17:03 & Drake Ave \\& Fullerton Ave           & 503 & Kosciuszko Park             & 499 & member\\\\\n\t 5DD24A79A4E006F4 & docked\\_bike & 2020-04-01 17:54:13 & 2020-04-01 18:08:36 & McClurg Ct \\& Erie St                & 142 & Indiana Ave \\& Roosevelt Rd  & 255 & member\\\\\n\t 2A59BBDF5CDBA725 & docked\\_bike & 2020-04-07 12:50:19 & 2020-04-07 13:02:31 & California Ave \\& Division St        & 216 & Wood St \\& Augusta Blvd      & 657 & member\\\\\n\t 27AD306C119C6158 & docked\\_bike & 2020-04-18 10:22:59 & 2020-04-18 11:15:54 & Rush St \\& Hubbard St                & 125 & Sheridan Rd \\& Lawrence Ave  & 323 & casual\\\\\n\t 356216E875132F61 & docked\\_bike & 2020-04-30 17:55:47 & 2020-04-30 18:01:11 & Mies van der Rohe Way \\& Chicago Ave & 173 & Streeter Dr \\& Grand Ave     & 35  & member\\\\\n\\end{tabular}\n",
            "text/markdown": "\nA tibble: 6 × 9\n\n| ride_id &lt;chr&gt; | rideable_type &lt;chr&gt; | started_at &lt;dttm&gt; | ended_at &lt;dttm&gt; | start_station_name &lt;chr&gt; | start_station_id &lt;fct&gt; | end_station_name &lt;chr&gt; | end_station_id &lt;fct&gt; | member_casual &lt;chr&gt; |\n|---|---|---|---|---|---|---|---|---|\n| A847FADBBC638E45 | docked_bike | 2020-04-26 17:45:14 | 2020-04-26 18:12:03 | Eckhart Park                        | 86  | Lincoln Ave &amp; Diversey Pkwy | 152 | member |\n| 5405B80E996FF60D | docked_bike | 2020-04-17 17:08:54 | 2020-04-17 17:17:03 | Drake Ave &amp; Fullerton Ave           | 503 | Kosciuszko Park             | 499 | member |\n| 5DD24A79A4E006F4 | docked_bike | 2020-04-01 17:54:13 | 2020-04-01 18:08:36 | McClurg Ct &amp; Erie St                | 142 | Indiana Ave &amp; Roosevelt Rd  | 255 | member |\n| 2A59BBDF5CDBA725 | docked_bike | 2020-04-07 12:50:19 | 2020-04-07 13:02:31 | California Ave &amp; Division St        | 216 | Wood St &amp; Augusta Blvd      | 657 | member |\n| 27AD306C119C6158 | docked_bike | 2020-04-18 10:22:59 | 2020-04-18 11:15:54 | Rush St &amp; Hubbard St                | 125 | Sheridan Rd &amp; Lawrence Ave  | 323 | casual |\n| 356216E875132F61 | docked_bike | 2020-04-30 17:55:47 | 2020-04-30 18:01:11 | Mies van der Rohe Way &amp; Chicago Ave | 173 | Streeter Dr &amp; Grand Ave     | 35  | member |\n\n",
            "text/html": [
              "<table class=\"dataframe\">\n",
              "<caption>A tibble: 6 × 9</caption>\n",
              "<thead>\n",
              "\t<tr><th scope=col>ride_id</th><th scope=col>rideable_type</th><th scope=col>started_at</th><th scope=col>ended_at</th><th scope=col>start_station_name</th><th scope=col>start_station_id</th><th scope=col>end_station_name</th><th scope=col>end_station_id</th><th scope=col>member_casual</th></tr>\n",
              "\t<tr><th scope=col>&lt;chr&gt;</th><th scope=col>&lt;chr&gt;</th><th scope=col>&lt;dttm&gt;</th><th scope=col>&lt;dttm&gt;</th><th scope=col>&lt;chr&gt;</th><th scope=col>&lt;fct&gt;</th><th scope=col>&lt;chr&gt;</th><th scope=col>&lt;fct&gt;</th><th scope=col>&lt;chr&gt;</th></tr>\n",
              "</thead>\n",
              "<tbody>\n",
              "\t<tr><td>A847FADBBC638E45</td><td>docked_bike</td><td>2020-04-26 17:45:14</td><td>2020-04-26 18:12:03</td><td><span style=white-space:pre-wrap>Eckhart Park                       </span></td><td>86 </td><td>Lincoln Ave &amp; Diversey Pkwy</td><td>152</td><td>member</td></tr>\n",
              "\t<tr><td>5405B80E996FF60D</td><td>docked_bike</td><td>2020-04-17 17:08:54</td><td>2020-04-17 17:17:03</td><td><span style=white-space:pre-wrap>Drake Ave &amp; Fullerton Ave          </span></td><td>503</td><td><span style=white-space:pre-wrap>Kosciuszko Park            </span></td><td>499</td><td>member</td></tr>\n",
              "\t<tr><td>5DD24A79A4E006F4</td><td>docked_bike</td><td>2020-04-01 17:54:13</td><td>2020-04-01 18:08:36</td><td><span style=white-space:pre-wrap>McClurg Ct &amp; Erie St               </span></td><td>142</td><td>Indiana Ave &amp; Roosevelt Rd </td><td>255</td><td>member</td></tr>\n",
              "\t<tr><td>2A59BBDF5CDBA725</td><td>docked_bike</td><td>2020-04-07 12:50:19</td><td>2020-04-07 13:02:31</td><td><span style=white-space:pre-wrap>California Ave &amp; Division St       </span></td><td>216</td><td><span style=white-space:pre-wrap>Wood St &amp; Augusta Blvd     </span></td><td>657</td><td>member</td></tr>\n",
              "\t<tr><td>27AD306C119C6158</td><td>docked_bike</td><td>2020-04-18 10:22:59</td><td>2020-04-18 11:15:54</td><td><span style=white-space:pre-wrap>Rush St &amp; Hubbard St               </span></td><td>125</td><td>Sheridan Rd &amp; Lawrence Ave </td><td>323</td><td>casual</td></tr>\n",
              "\t<tr><td>356216E875132F61</td><td>docked_bike</td><td>2020-04-30 17:55:47</td><td>2020-04-30 18:01:11</td><td>Mies van der Rohe Way &amp; Chicago Ave</td><td>173</td><td><span style=white-space:pre-wrap>Streeter Dr &amp; Grand Ave    </span></td><td>35 </td><td>member</td></tr>\n",
              "</tbody>\n",
              "</table>\n"
            ]
          },
          "metadata": {
            "tags": []
          }
        }
      ]
    },
    {
      "cell_type": "code",
      "metadata": {
        "colab": {
          "base_uri": "https://localhost:8080/",
          "height": 50
        },
        "id": "BflGUp4e9ZOA",
        "outputId": "525eec07-3015-4b19-aaf4-902e231585d4"
      },
      "source": [
        "# Remove rows with missing values\n",
        "colSums(is.na(all_data_v2))"
      ],
      "execution_count": 16,
      "outputs": [
        {
          "output_type": "display_data",
          "data": {
            "text/plain": [
              "           ride_id      rideable_type         started_at           ended_at \n",
              "                 0                  0                  1                  2 \n",
              "start_station_name   start_station_id   end_station_name     end_station_id \n",
              "             96470              96930             115052             115390 \n",
              "     member_casual \n",
              "                 6 "
            ],
            "text/latex": "\\begin{description*}\n\\item[ride\\textbackslash{}\\_id] 0\n\\item[rideable\\textbackslash{}\\_type] 0\n\\item[started\\textbackslash{}\\_at] 1\n\\item[ended\\textbackslash{}\\_at] 2\n\\item[start\\textbackslash{}\\_station\\textbackslash{}\\_name] 96470\n\\item[start\\textbackslash{}\\_station\\textbackslash{}\\_id] 96930\n\\item[end\\textbackslash{}\\_station\\textbackslash{}\\_name] 115052\n\\item[end\\textbackslash{}\\_station\\textbackslash{}\\_id] 115390\n\\item[member\\textbackslash{}\\_casual] 6\n\\end{description*}\n",
            "text/markdown": "ride_id\n:   0rideable_type\n:   0started_at\n:   1ended_at\n:   2start_station_name\n:   96470start_station_id\n:   96930end_station_name\n:   115052end_station_id\n:   115390member_casual\n:   6\n\n",
            "text/html": [
              "<style>\n",
              ".dl-inline {width: auto; margin:0; padding: 0}\n",
              ".dl-inline>dt, .dl-inline>dd {float: none; width: auto; display: inline-block}\n",
              ".dl-inline>dt::after {content: \":\\0020\"; padding-right: .5ex}\n",
              ".dl-inline>dt:not(:first-of-type) {padding-left: .5ex}\n",
              "</style><dl class=dl-inline><dt>ride_id</dt><dd>0</dd><dt>rideable_type</dt><dd>0</dd><dt>started_at</dt><dd>1</dd><dt>ended_at</dt><dd>2</dd><dt>start_station_name</dt><dd>96470</dd><dt>start_station_id</dt><dd>96930</dd><dt>end_station_name</dt><dd>115052</dd><dt>end_station_id</dt><dd>115390</dd><dt>member_casual</dt><dd>6</dd></dl>\n"
            ]
          },
          "metadata": {
            "tags": []
          }
        }
      ]
    },
    {
      "cell_type": "code",
      "metadata": {
        "colab": {
          "base_uri": "https://localhost:8080/",
          "height": 50
        },
        "id": "HdN0hLQCFgtr",
        "outputId": "19df6b31-ddd2-455b-b4ca-dab6c254360d"
      },
      "source": [
        "# 6 rows of data with missing values will be removed\n",
        "all_data_v3 <- all_data_v2[complete.cases(all_data_v2), ]\n",
        "\n",
        "colSums(is.na(all_data_v3))"
      ],
      "execution_count": 21,
      "outputs": [
        {
          "output_type": "display_data",
          "data": {
            "text/plain": [
              "           ride_id      rideable_type         started_at           ended_at \n",
              "                 0                  0                  0                  0 \n",
              "start_station_name   start_station_id   end_station_name     end_station_id \n",
              "                 0                  0                  0                  0 \n",
              "     member_casual \n",
              "                 0 "
            ],
            "text/latex": "\\begin{description*}\n\\item[ride\\textbackslash{}\\_id] 0\n\\item[rideable\\textbackslash{}\\_type] 0\n\\item[started\\textbackslash{}\\_at] 0\n\\item[ended\\textbackslash{}\\_at] 0\n\\item[start\\textbackslash{}\\_station\\textbackslash{}\\_name] 0\n\\item[start\\textbackslash{}\\_station\\textbackslash{}\\_id] 0\n\\item[end\\textbackslash{}\\_station\\textbackslash{}\\_name] 0\n\\item[end\\textbackslash{}\\_station\\textbackslash{}\\_id] 0\n\\item[member\\textbackslash{}\\_casual] 0\n\\end{description*}\n",
            "text/markdown": "ride_id\n:   0rideable_type\n:   0started_at\n:   0ended_at\n:   0start_station_name\n:   0start_station_id\n:   0end_station_name\n:   0end_station_id\n:   0member_casual\n:   0\n\n",
            "text/html": [
              "<style>\n",
              ".dl-inline {width: auto; margin:0; padding: 0}\n",
              ".dl-inline>dt, .dl-inline>dd {float: none; width: auto; display: inline-block}\n",
              ".dl-inline>dt::after {content: \":\\0020\"; padding-right: .5ex}\n",
              ".dl-inline>dt:not(:first-of-type) {padding-left: .5ex}\n",
              "</style><dl class=dl-inline><dt>ride_id</dt><dd>0</dd><dt>rideable_type</dt><dd>0</dd><dt>started_at</dt><dd>0</dd><dt>ended_at</dt><dd>0</dd><dt>start_station_name</dt><dd>0</dd><dt>start_station_id</dt><dd>0</dd><dt>end_station_name</dt><dd>0</dd><dt>end_station_id</dt><dd>0</dd><dt>member_casual</dt><dd>0</dd></dl>\n"
            ]
          },
          "metadata": {
            "tags": []
          }
        }
      ]
    },
    {
      "cell_type": "code",
      "metadata": {
        "id": "Wheq0Q9AGJOK"
      },
      "source": [
        "# data with started_at greater than ended_at will be removed\n",
        "all_data_v3 <- all_data_v3 %>% \n",
        "  filter(all_data_v3$started_at < all_data_v3$ended_at)"
      ],
      "execution_count": 22,
      "outputs": []
    },
    {
      "cell_type": "code",
      "metadata": {
        "colab": {
          "base_uri": "https://localhost:8080/",
          "height": 483
        },
        "id": "fL-VkRXsGXzR",
        "outputId": "d7cf3588-bc02-4f91-f910-419a7d6c438d"
      },
      "source": [
        "# create new column `length_of_ride`\n",
        "all_data_v3$length_of_ride <- all_data_v3$ended_at - all_data_v3$started_at\n",
        "\n",
        "head(all_data_v3)"
      ],
      "execution_count": 26,
      "outputs": [
        {
          "output_type": "display_data",
          "data": {
            "text/plain": [
              "  ride_id          rideable_type started_at          ended_at           \n",
              "1 A847FADBBC638E45 docked_bike   2020-04-26 17:45:14 2020-04-26 18:12:03\n",
              "2 5405B80E996FF60D docked_bike   2020-04-17 17:08:54 2020-04-17 17:17:03\n",
              "3 5DD24A79A4E006F4 docked_bike   2020-04-01 17:54:13 2020-04-01 18:08:36\n",
              "4 2A59BBDF5CDBA725 docked_bike   2020-04-07 12:50:19 2020-04-07 13:02:31\n",
              "5 27AD306C119C6158 docked_bike   2020-04-18 10:22:59 2020-04-18 11:15:54\n",
              "6 356216E875132F61 docked_bike   2020-04-30 17:55:47 2020-04-30 18:01:11\n",
              "  start_station_name                  start_station_id\n",
              "1 Eckhart Park                        86              \n",
              "2 Drake Ave & Fullerton Ave           503             \n",
              "3 McClurg Ct & Erie St                142             \n",
              "4 California Ave & Division St        216             \n",
              "5 Rush St & Hubbard St                125             \n",
              "6 Mies van der Rohe Way & Chicago Ave 173             \n",
              "  end_station_name            end_station_id member_casual length_of_ride\n",
              "1 Lincoln Ave & Diversey Pkwy 152            member        1609 secs     \n",
              "2 Kosciuszko Park             499            member         489 secs     \n",
              "3 Indiana Ave & Roosevelt Rd  255            member         863 secs     \n",
              "4 Wood St & Augusta Blvd      657            member         732 secs     \n",
              "5 Sheridan Rd & Lawrence Ave  323            casual        3175 secs     \n",
              "6 Streeter Dr & Grand Ave     35             member         324 secs     "
            ],
            "text/latex": "A tibble: 6 × 10\n\\begin{tabular}{llllllllll}\n ride\\_id & rideable\\_type & started\\_at & ended\\_at & start\\_station\\_name & start\\_station\\_id & end\\_station\\_name & end\\_station\\_id & member\\_casual & length\\_of\\_ride\\\\\n <chr> & <chr> & <dttm> & <dttm> & <chr> & <fct> & <chr> & <fct> & <chr> & <drtn>\\\\\n\\hline\n\t A847FADBBC638E45 & docked\\_bike & 2020-04-26 17:45:14 & 2020-04-26 18:12:03 & Eckhart Park                        & 86  & Lincoln Ave \\& Diversey Pkwy & 152 & member & 1609 secs\\\\\n\t 5405B80E996FF60D & docked\\_bike & 2020-04-17 17:08:54 & 2020-04-17 17:17:03 & Drake Ave \\& Fullerton Ave           & 503 & Kosciuszko Park             & 499 & member &  489 secs\\\\\n\t 5DD24A79A4E006F4 & docked\\_bike & 2020-04-01 17:54:13 & 2020-04-01 18:08:36 & McClurg Ct \\& Erie St                & 142 & Indiana Ave \\& Roosevelt Rd  & 255 & member &  863 secs\\\\\n\t 2A59BBDF5CDBA725 & docked\\_bike & 2020-04-07 12:50:19 & 2020-04-07 13:02:31 & California Ave \\& Division St        & 216 & Wood St \\& Augusta Blvd      & 657 & member &  732 secs\\\\\n\t 27AD306C119C6158 & docked\\_bike & 2020-04-18 10:22:59 & 2020-04-18 11:15:54 & Rush St \\& Hubbard St                & 125 & Sheridan Rd \\& Lawrence Ave  & 323 & casual & 3175 secs\\\\\n\t 356216E875132F61 & docked\\_bike & 2020-04-30 17:55:47 & 2020-04-30 18:01:11 & Mies van der Rohe Way \\& Chicago Ave & 173 & Streeter Dr \\& Grand Ave     & 35  & member &  324 secs\\\\\n\\end{tabular}\n",
            "text/markdown": "\nA tibble: 6 × 10\n\n| ride_id &lt;chr&gt; | rideable_type &lt;chr&gt; | started_at &lt;dttm&gt; | ended_at &lt;dttm&gt; | start_station_name &lt;chr&gt; | start_station_id &lt;fct&gt; | end_station_name &lt;chr&gt; | end_station_id &lt;fct&gt; | member_casual &lt;chr&gt; | length_of_ride &lt;drtn&gt; |\n|---|---|---|---|---|---|---|---|---|---|\n| A847FADBBC638E45 | docked_bike | 2020-04-26 17:45:14 | 2020-04-26 18:12:03 | Eckhart Park                        | 86  | Lincoln Ave &amp; Diversey Pkwy | 152 | member | 1609 secs |\n| 5405B80E996FF60D | docked_bike | 2020-04-17 17:08:54 | 2020-04-17 17:17:03 | Drake Ave &amp; Fullerton Ave           | 503 | Kosciuszko Park             | 499 | member |  489 secs |\n| 5DD24A79A4E006F4 | docked_bike | 2020-04-01 17:54:13 | 2020-04-01 18:08:36 | McClurg Ct &amp; Erie St                | 142 | Indiana Ave &amp; Roosevelt Rd  | 255 | member |  863 secs |\n| 2A59BBDF5CDBA725 | docked_bike | 2020-04-07 12:50:19 | 2020-04-07 13:02:31 | California Ave &amp; Division St        | 216 | Wood St &amp; Augusta Blvd      | 657 | member |  732 secs |\n| 27AD306C119C6158 | docked_bike | 2020-04-18 10:22:59 | 2020-04-18 11:15:54 | Rush St &amp; Hubbard St                | 125 | Sheridan Rd &amp; Lawrence Ave  | 323 | casual | 3175 secs |\n| 356216E875132F61 | docked_bike | 2020-04-30 17:55:47 | 2020-04-30 18:01:11 | Mies van der Rohe Way &amp; Chicago Ave | 173 | Streeter Dr &amp; Grand Ave     | 35  | member |  324 secs |\n\n",
            "text/html": [
              "<table class=\"dataframe\">\n",
              "<caption>A tibble: 6 × 10</caption>\n",
              "<thead>\n",
              "\t<tr><th scope=col>ride_id</th><th scope=col>rideable_type</th><th scope=col>started_at</th><th scope=col>ended_at</th><th scope=col>start_station_name</th><th scope=col>start_station_id</th><th scope=col>end_station_name</th><th scope=col>end_station_id</th><th scope=col>member_casual</th><th scope=col>length_of_ride</th></tr>\n",
              "\t<tr><th scope=col>&lt;chr&gt;</th><th scope=col>&lt;chr&gt;</th><th scope=col>&lt;dttm&gt;</th><th scope=col>&lt;dttm&gt;</th><th scope=col>&lt;chr&gt;</th><th scope=col>&lt;fct&gt;</th><th scope=col>&lt;chr&gt;</th><th scope=col>&lt;fct&gt;</th><th scope=col>&lt;chr&gt;</th><th scope=col>&lt;drtn&gt;</th></tr>\n",
              "</thead>\n",
              "<tbody>\n",
              "\t<tr><td>A847FADBBC638E45</td><td>docked_bike</td><td>2020-04-26 17:45:14</td><td>2020-04-26 18:12:03</td><td><span style=white-space:pre-wrap>Eckhart Park                       </span></td><td>86 </td><td>Lincoln Ave &amp; Diversey Pkwy</td><td>152</td><td>member</td><td>1609 secs</td></tr>\n",
              "\t<tr><td>5405B80E996FF60D</td><td>docked_bike</td><td>2020-04-17 17:08:54</td><td>2020-04-17 17:17:03</td><td><span style=white-space:pre-wrap>Drake Ave &amp; Fullerton Ave          </span></td><td>503</td><td><span style=white-space:pre-wrap>Kosciuszko Park            </span></td><td>499</td><td>member</td><td> 489 secs</td></tr>\n",
              "\t<tr><td>5DD24A79A4E006F4</td><td>docked_bike</td><td>2020-04-01 17:54:13</td><td>2020-04-01 18:08:36</td><td><span style=white-space:pre-wrap>McClurg Ct &amp; Erie St               </span></td><td>142</td><td>Indiana Ave &amp; Roosevelt Rd </td><td>255</td><td>member</td><td> 863 secs</td></tr>\n",
              "\t<tr><td>2A59BBDF5CDBA725</td><td>docked_bike</td><td>2020-04-07 12:50:19</td><td>2020-04-07 13:02:31</td><td><span style=white-space:pre-wrap>California Ave &amp; Division St       </span></td><td>216</td><td><span style=white-space:pre-wrap>Wood St &amp; Augusta Blvd     </span></td><td>657</td><td>member</td><td> 732 secs</td></tr>\n",
              "\t<tr><td>27AD306C119C6158</td><td>docked_bike</td><td>2020-04-18 10:22:59</td><td>2020-04-18 11:15:54</td><td><span style=white-space:pre-wrap>Rush St &amp; Hubbard St               </span></td><td>125</td><td>Sheridan Rd &amp; Lawrence Ave </td><td>323</td><td>casual</td><td>3175 secs</td></tr>\n",
              "\t<tr><td>356216E875132F61</td><td>docked_bike</td><td>2020-04-30 17:55:47</td><td>2020-04-30 18:01:11</td><td>Mies van der Rohe Way &amp; Chicago Ave</td><td>173</td><td><span style=white-space:pre-wrap>Streeter Dr &amp; Grand Ave    </span></td><td>35 </td><td>member</td><td> 324 secs</td></tr>\n",
              "</tbody>\n",
              "</table>\n"
            ]
          },
          "metadata": {
            "tags": []
          }
        }
      ]
    },
    {
      "cell_type": "code",
      "metadata": {
        "colab": {
          "base_uri": "https://localhost:8080/",
          "height": 483
        },
        "id": "xPzFmChiGrIf",
        "outputId": "435c6304-4a1b-4cb7-f487-37fcba975bbb"
      },
      "source": [
        "# Converting seconds to hours, minutes, seconds format\n",
        "all_data_v3$length_of_ride <- hms::hms(seconds_to_period(all_data_v3$length_of_ride))\n",
        "\n",
        "head(all_data_v3)"
      ],
      "execution_count": 27,
      "outputs": [
        {
          "output_type": "display_data",
          "data": {
            "text/plain": [
              "  ride_id          rideable_type started_at          ended_at           \n",
              "1 A847FADBBC638E45 docked_bike   2020-04-26 17:45:14 2020-04-26 18:12:03\n",
              "2 5405B80E996FF60D docked_bike   2020-04-17 17:08:54 2020-04-17 17:17:03\n",
              "3 5DD24A79A4E006F4 docked_bike   2020-04-01 17:54:13 2020-04-01 18:08:36\n",
              "4 2A59BBDF5CDBA725 docked_bike   2020-04-07 12:50:19 2020-04-07 13:02:31\n",
              "5 27AD306C119C6158 docked_bike   2020-04-18 10:22:59 2020-04-18 11:15:54\n",
              "6 356216E875132F61 docked_bike   2020-04-30 17:55:47 2020-04-30 18:01:11\n",
              "  start_station_name                  start_station_id\n",
              "1 Eckhart Park                        86              \n",
              "2 Drake Ave & Fullerton Ave           503             \n",
              "3 McClurg Ct & Erie St                142             \n",
              "4 California Ave & Division St        216             \n",
              "5 Rush St & Hubbard St                125             \n",
              "6 Mies van der Rohe Way & Chicago Ave 173             \n",
              "  end_station_name            end_station_id member_casual length_of_ride\n",
              "1 Lincoln Ave & Diversey Pkwy 152            member        00:26:49      \n",
              "2 Kosciuszko Park             499            member        00:08:09      \n",
              "3 Indiana Ave & Roosevelt Rd  255            member        00:14:23      \n",
              "4 Wood St & Augusta Blvd      657            member        00:12:12      \n",
              "5 Sheridan Rd & Lawrence Ave  323            casual        00:52:55      \n",
              "6 Streeter Dr & Grand Ave     35             member        00:05:24      "
            ],
            "text/latex": "A tibble: 6 × 10\n\\begin{tabular}{llllllllll}\n ride\\_id & rideable\\_type & started\\_at & ended\\_at & start\\_station\\_name & start\\_station\\_id & end\\_station\\_name & end\\_station\\_id & member\\_casual & length\\_of\\_ride\\\\\n <chr> & <chr> & <dttm> & <dttm> & <chr> & <fct> & <chr> & <fct> & <chr> & <time>\\\\\n\\hline\n\t A847FADBBC638E45 & docked\\_bike & 2020-04-26 17:45:14 & 2020-04-26 18:12:03 & Eckhart Park                        & 86  & Lincoln Ave \\& Diversey Pkwy & 152 & member & 00:26:49\\\\\n\t 5405B80E996FF60D & docked\\_bike & 2020-04-17 17:08:54 & 2020-04-17 17:17:03 & Drake Ave \\& Fullerton Ave           & 503 & Kosciuszko Park             & 499 & member & 00:08:09\\\\\n\t 5DD24A79A4E006F4 & docked\\_bike & 2020-04-01 17:54:13 & 2020-04-01 18:08:36 & McClurg Ct \\& Erie St                & 142 & Indiana Ave \\& Roosevelt Rd  & 255 & member & 00:14:23\\\\\n\t 2A59BBDF5CDBA725 & docked\\_bike & 2020-04-07 12:50:19 & 2020-04-07 13:02:31 & California Ave \\& Division St        & 216 & Wood St \\& Augusta Blvd      & 657 & member & 00:12:12\\\\\n\t 27AD306C119C6158 & docked\\_bike & 2020-04-18 10:22:59 & 2020-04-18 11:15:54 & Rush St \\& Hubbard St                & 125 & Sheridan Rd \\& Lawrence Ave  & 323 & casual & 00:52:55\\\\\n\t 356216E875132F61 & docked\\_bike & 2020-04-30 17:55:47 & 2020-04-30 18:01:11 & Mies van der Rohe Way \\& Chicago Ave & 173 & Streeter Dr \\& Grand Ave     & 35  & member & 00:05:24\\\\\n\\end{tabular}\n",
            "text/markdown": "\nA tibble: 6 × 10\n\n| ride_id &lt;chr&gt; | rideable_type &lt;chr&gt; | started_at &lt;dttm&gt; | ended_at &lt;dttm&gt; | start_station_name &lt;chr&gt; | start_station_id &lt;fct&gt; | end_station_name &lt;chr&gt; | end_station_id &lt;fct&gt; | member_casual &lt;chr&gt; | length_of_ride &lt;time&gt; |\n|---|---|---|---|---|---|---|---|---|---|\n| A847FADBBC638E45 | docked_bike | 2020-04-26 17:45:14 | 2020-04-26 18:12:03 | Eckhart Park                        | 86  | Lincoln Ave &amp; Diversey Pkwy | 152 | member | 00:26:49 |\n| 5405B80E996FF60D | docked_bike | 2020-04-17 17:08:54 | 2020-04-17 17:17:03 | Drake Ave &amp; Fullerton Ave           | 503 | Kosciuszko Park             | 499 | member | 00:08:09 |\n| 5DD24A79A4E006F4 | docked_bike | 2020-04-01 17:54:13 | 2020-04-01 18:08:36 | McClurg Ct &amp; Erie St                | 142 | Indiana Ave &amp; Roosevelt Rd  | 255 | member | 00:14:23 |\n| 2A59BBDF5CDBA725 | docked_bike | 2020-04-07 12:50:19 | 2020-04-07 13:02:31 | California Ave &amp; Division St        | 216 | Wood St &amp; Augusta Blvd      | 657 | member | 00:12:12 |\n| 27AD306C119C6158 | docked_bike | 2020-04-18 10:22:59 | 2020-04-18 11:15:54 | Rush St &amp; Hubbard St                | 125 | Sheridan Rd &amp; Lawrence Ave  | 323 | casual | 00:52:55 |\n| 356216E875132F61 | docked_bike | 2020-04-30 17:55:47 | 2020-04-30 18:01:11 | Mies van der Rohe Way &amp; Chicago Ave | 173 | Streeter Dr &amp; Grand Ave     | 35  | member | 00:05:24 |\n\n",
            "text/html": [
              "<table class=\"dataframe\">\n",
              "<caption>A tibble: 6 × 10</caption>\n",
              "<thead>\n",
              "\t<tr><th scope=col>ride_id</th><th scope=col>rideable_type</th><th scope=col>started_at</th><th scope=col>ended_at</th><th scope=col>start_station_name</th><th scope=col>start_station_id</th><th scope=col>end_station_name</th><th scope=col>end_station_id</th><th scope=col>member_casual</th><th scope=col>length_of_ride</th></tr>\n",
              "\t<tr><th scope=col>&lt;chr&gt;</th><th scope=col>&lt;chr&gt;</th><th scope=col>&lt;dttm&gt;</th><th scope=col>&lt;dttm&gt;</th><th scope=col>&lt;chr&gt;</th><th scope=col>&lt;fct&gt;</th><th scope=col>&lt;chr&gt;</th><th scope=col>&lt;fct&gt;</th><th scope=col>&lt;chr&gt;</th><th scope=col>&lt;time&gt;</th></tr>\n",
              "</thead>\n",
              "<tbody>\n",
              "\t<tr><td>A847FADBBC638E45</td><td>docked_bike</td><td>2020-04-26 17:45:14</td><td>2020-04-26 18:12:03</td><td><span style=white-space:pre-wrap>Eckhart Park                       </span></td><td>86 </td><td>Lincoln Ave &amp; Diversey Pkwy</td><td>152</td><td>member</td><td>00:26:49</td></tr>\n",
              "\t<tr><td>5405B80E996FF60D</td><td>docked_bike</td><td>2020-04-17 17:08:54</td><td>2020-04-17 17:17:03</td><td><span style=white-space:pre-wrap>Drake Ave &amp; Fullerton Ave          </span></td><td>503</td><td><span style=white-space:pre-wrap>Kosciuszko Park            </span></td><td>499</td><td>member</td><td>00:08:09</td></tr>\n",
              "\t<tr><td>5DD24A79A4E006F4</td><td>docked_bike</td><td>2020-04-01 17:54:13</td><td>2020-04-01 18:08:36</td><td><span style=white-space:pre-wrap>McClurg Ct &amp; Erie St               </span></td><td>142</td><td>Indiana Ave &amp; Roosevelt Rd </td><td>255</td><td>member</td><td>00:14:23</td></tr>\n",
              "\t<tr><td>2A59BBDF5CDBA725</td><td>docked_bike</td><td>2020-04-07 12:50:19</td><td>2020-04-07 13:02:31</td><td><span style=white-space:pre-wrap>California Ave &amp; Division St       </span></td><td>216</td><td><span style=white-space:pre-wrap>Wood St &amp; Augusta Blvd     </span></td><td>657</td><td>member</td><td>00:12:12</td></tr>\n",
              "\t<tr><td>27AD306C119C6158</td><td>docked_bike</td><td>2020-04-18 10:22:59</td><td>2020-04-18 11:15:54</td><td><span style=white-space:pre-wrap>Rush St &amp; Hubbard St               </span></td><td>125</td><td>Sheridan Rd &amp; Lawrence Ave </td><td>323</td><td>casual</td><td>00:52:55</td></tr>\n",
              "\t<tr><td>356216E875132F61</td><td>docked_bike</td><td>2020-04-30 17:55:47</td><td>2020-04-30 18:01:11</td><td>Mies van der Rohe Way &amp; Chicago Ave</td><td>173</td><td><span style=white-space:pre-wrap>Streeter Dr &amp; Grand Ave    </span></td><td>35 </td><td>member</td><td>00:05:24</td></tr>\n",
              "</tbody>\n",
              "</table>\n"
            ]
          },
          "metadata": {
            "tags": []
          }
        }
      ]
    },
    {
      "cell_type": "code",
      "metadata": {
        "colab": {
          "base_uri": "https://localhost:8080/",
          "height": 503
        },
        "id": "_Sc3WtpIMSHH",
        "outputId": "f8c9db05-08f3-4758-9f98-b4aa576644d4"
      },
      "source": [
        "# Adding a column named days_of_week to know the weekly rides\n",
        "all_data_v3$days_of_week <- wday(all_data_v3$started_at, label = TRUE)\n",
        "\n",
        "head(all_data_v3)"
      ],
      "execution_count": 59,
      "outputs": [
        {
          "output_type": "display_data",
          "data": {
            "text/plain": [
              "  ride_id          rideable_type started_at          ended_at           \n",
              "1 A847FADBBC638E45 docked_bike   2020-04-26 17:45:14 2020-04-26 18:12:03\n",
              "2 5405B80E996FF60D docked_bike   2020-04-17 17:08:54 2020-04-17 17:17:03\n",
              "3 5DD24A79A4E006F4 docked_bike   2020-04-01 17:54:13 2020-04-01 18:08:36\n",
              "4 2A59BBDF5CDBA725 docked_bike   2020-04-07 12:50:19 2020-04-07 13:02:31\n",
              "5 27AD306C119C6158 docked_bike   2020-04-18 10:22:59 2020-04-18 11:15:54\n",
              "6 356216E875132F61 docked_bike   2020-04-30 17:55:47 2020-04-30 18:01:11\n",
              "  start_station_name                  start_station_id\n",
              "1 Eckhart Park                        86              \n",
              "2 Drake Ave & Fullerton Ave           503             \n",
              "3 McClurg Ct & Erie St                142             \n",
              "4 California Ave & Division St        216             \n",
              "5 Rush St & Hubbard St                125             \n",
              "6 Mies van der Rohe Way & Chicago Ave 173             \n",
              "  end_station_name            end_station_id member_casual length_of_ride\n",
              "1 Lincoln Ave & Diversey Pkwy 152            member        00:26:49      \n",
              "2 Kosciuszko Park             499            member        00:08:09      \n",
              "3 Indiana Ave & Roosevelt Rd  255            member        00:14:23      \n",
              "4 Wood St & Augusta Blvd      657            member        00:12:12      \n",
              "5 Sheridan Rd & Lawrence Ave  323            casual        00:52:55      \n",
              "6 Streeter Dr & Grand Ave     35             member        00:05:24      \n",
              "  days_of_week\n",
              "1 Sun         \n",
              "2 Fri         \n",
              "3 Wed         \n",
              "4 Tue         \n",
              "5 Sat         \n",
              "6 Thu         "
            ],
            "text/latex": "A tibble: 6 × 11\n\\begin{tabular}{lllllllllll}\n ride\\_id & rideable\\_type & started\\_at & ended\\_at & start\\_station\\_name & start\\_station\\_id & end\\_station\\_name & end\\_station\\_id & member\\_casual & length\\_of\\_ride & days\\_of\\_week\\\\\n <chr> & <chr> & <dttm> & <dttm> & <chr> & <fct> & <chr> & <fct> & <chr> & <time> & <ord>\\\\\n\\hline\n\t A847FADBBC638E45 & docked\\_bike & 2020-04-26 17:45:14 & 2020-04-26 18:12:03 & Eckhart Park                        & 86  & Lincoln Ave \\& Diversey Pkwy & 152 & member & 00:26:49 & Sun\\\\\n\t 5405B80E996FF60D & docked\\_bike & 2020-04-17 17:08:54 & 2020-04-17 17:17:03 & Drake Ave \\& Fullerton Ave           & 503 & Kosciuszko Park             & 499 & member & 00:08:09 & Fri\\\\\n\t 5DD24A79A4E006F4 & docked\\_bike & 2020-04-01 17:54:13 & 2020-04-01 18:08:36 & McClurg Ct \\& Erie St                & 142 & Indiana Ave \\& Roosevelt Rd  & 255 & member & 00:14:23 & Wed\\\\\n\t 2A59BBDF5CDBA725 & docked\\_bike & 2020-04-07 12:50:19 & 2020-04-07 13:02:31 & California Ave \\& Division St        & 216 & Wood St \\& Augusta Blvd      & 657 & member & 00:12:12 & Tue\\\\\n\t 27AD306C119C6158 & docked\\_bike & 2020-04-18 10:22:59 & 2020-04-18 11:15:54 & Rush St \\& Hubbard St                & 125 & Sheridan Rd \\& Lawrence Ave  & 323 & casual & 00:52:55 & Sat\\\\\n\t 356216E875132F61 & docked\\_bike & 2020-04-30 17:55:47 & 2020-04-30 18:01:11 & Mies van der Rohe Way \\& Chicago Ave & 173 & Streeter Dr \\& Grand Ave     & 35  & member & 00:05:24 & Thu\\\\\n\\end{tabular}\n",
            "text/markdown": "\nA tibble: 6 × 11\n\n| ride_id &lt;chr&gt; | rideable_type &lt;chr&gt; | started_at &lt;dttm&gt; | ended_at &lt;dttm&gt; | start_station_name &lt;chr&gt; | start_station_id &lt;fct&gt; | end_station_name &lt;chr&gt; | end_station_id &lt;fct&gt; | member_casual &lt;chr&gt; | length_of_ride &lt;time&gt; | days_of_week &lt;ord&gt; |\n|---|---|---|---|---|---|---|---|---|---|---|\n| A847FADBBC638E45 | docked_bike | 2020-04-26 17:45:14 | 2020-04-26 18:12:03 | Eckhart Park                        | 86  | Lincoln Ave &amp; Diversey Pkwy | 152 | member | 00:26:49 | Sun |\n| 5405B80E996FF60D | docked_bike | 2020-04-17 17:08:54 | 2020-04-17 17:17:03 | Drake Ave &amp; Fullerton Ave           | 503 | Kosciuszko Park             | 499 | member | 00:08:09 | Fri |\n| 5DD24A79A4E006F4 | docked_bike | 2020-04-01 17:54:13 | 2020-04-01 18:08:36 | McClurg Ct &amp; Erie St                | 142 | Indiana Ave &amp; Roosevelt Rd  | 255 | member | 00:14:23 | Wed |\n| 2A59BBDF5CDBA725 | docked_bike | 2020-04-07 12:50:19 | 2020-04-07 13:02:31 | California Ave &amp; Division St        | 216 | Wood St &amp; Augusta Blvd      | 657 | member | 00:12:12 | Tue |\n| 27AD306C119C6158 | docked_bike | 2020-04-18 10:22:59 | 2020-04-18 11:15:54 | Rush St &amp; Hubbard St                | 125 | Sheridan Rd &amp; Lawrence Ave  | 323 | casual | 00:52:55 | Sat |\n| 356216E875132F61 | docked_bike | 2020-04-30 17:55:47 | 2020-04-30 18:01:11 | Mies van der Rohe Way &amp; Chicago Ave | 173 | Streeter Dr &amp; Grand Ave     | 35  | member | 00:05:24 | Thu |\n\n",
            "text/html": [
              "<table class=\"dataframe\">\n",
              "<caption>A tibble: 6 × 11</caption>\n",
              "<thead>\n",
              "\t<tr><th scope=col>ride_id</th><th scope=col>rideable_type</th><th scope=col>started_at</th><th scope=col>ended_at</th><th scope=col>start_station_name</th><th scope=col>start_station_id</th><th scope=col>end_station_name</th><th scope=col>end_station_id</th><th scope=col>member_casual</th><th scope=col>length_of_ride</th><th scope=col>days_of_week</th></tr>\n",
              "\t<tr><th scope=col>&lt;chr&gt;</th><th scope=col>&lt;chr&gt;</th><th scope=col>&lt;dttm&gt;</th><th scope=col>&lt;dttm&gt;</th><th scope=col>&lt;chr&gt;</th><th scope=col>&lt;fct&gt;</th><th scope=col>&lt;chr&gt;</th><th scope=col>&lt;fct&gt;</th><th scope=col>&lt;chr&gt;</th><th scope=col>&lt;time&gt;</th><th scope=col>&lt;ord&gt;</th></tr>\n",
              "</thead>\n",
              "<tbody>\n",
              "\t<tr><td>A847FADBBC638E45</td><td>docked_bike</td><td>2020-04-26 17:45:14</td><td>2020-04-26 18:12:03</td><td><span style=white-space:pre-wrap>Eckhart Park                       </span></td><td>86 </td><td>Lincoln Ave &amp; Diversey Pkwy</td><td>152</td><td>member</td><td>00:26:49</td><td>Sun</td></tr>\n",
              "\t<tr><td>5405B80E996FF60D</td><td>docked_bike</td><td>2020-04-17 17:08:54</td><td>2020-04-17 17:17:03</td><td><span style=white-space:pre-wrap>Drake Ave &amp; Fullerton Ave          </span></td><td>503</td><td><span style=white-space:pre-wrap>Kosciuszko Park            </span></td><td>499</td><td>member</td><td>00:08:09</td><td>Fri</td></tr>\n",
              "\t<tr><td>5DD24A79A4E006F4</td><td>docked_bike</td><td>2020-04-01 17:54:13</td><td>2020-04-01 18:08:36</td><td><span style=white-space:pre-wrap>McClurg Ct &amp; Erie St               </span></td><td>142</td><td>Indiana Ave &amp; Roosevelt Rd </td><td>255</td><td>member</td><td>00:14:23</td><td>Wed</td></tr>\n",
              "\t<tr><td>2A59BBDF5CDBA725</td><td>docked_bike</td><td>2020-04-07 12:50:19</td><td>2020-04-07 13:02:31</td><td><span style=white-space:pre-wrap>California Ave &amp; Division St       </span></td><td>216</td><td><span style=white-space:pre-wrap>Wood St &amp; Augusta Blvd     </span></td><td>657</td><td>member</td><td>00:12:12</td><td>Tue</td></tr>\n",
              "\t<tr><td>27AD306C119C6158</td><td>docked_bike</td><td>2020-04-18 10:22:59</td><td>2020-04-18 11:15:54</td><td><span style=white-space:pre-wrap>Rush St &amp; Hubbard St               </span></td><td>125</td><td>Sheridan Rd &amp; Lawrence Ave </td><td>323</td><td>casual</td><td>00:52:55</td><td>Sat</td></tr>\n",
              "\t<tr><td>356216E875132F61</td><td>docked_bike</td><td>2020-04-30 17:55:47</td><td>2020-04-30 18:01:11</td><td>Mies van der Rohe Way &amp; Chicago Ave</td><td>173</td><td><span style=white-space:pre-wrap>Streeter Dr &amp; Grand Ave    </span></td><td>35 </td><td>member</td><td>00:05:24</td><td>Thu</td></tr>\n",
              "</tbody>\n",
              "</table>\n"
            ]
          },
          "metadata": {
            "tags": []
          }
        }
      ]
    },
    {
      "cell_type": "code",
      "metadata": {
        "colab": {
          "base_uri": "https://localhost:8080/",
          "height": 503
        },
        "id": "UmZf1JekYZX0",
        "outputId": "9f976abd-e2bd-4a2c-8722-b6131b7aac08"
      },
      "source": [
        "# Added a column for the year \n",
        "all_data_v3$Year <- format(all_data_v3$ended_at, format=\"%Y\")\n",
        "head(all_data_v3)"
      ],
      "execution_count": 113,
      "outputs": [
        {
          "output_type": "display_data",
          "data": {
            "text/plain": [
              "  ride_id          rideable_type started_at          ended_at           \n",
              "1 A847FADBBC638E45 docked_bike   2020-04-26 17:45:14 2020-04-26 18:12:03\n",
              "2 5405B80E996FF60D docked_bike   2020-04-17 17:08:54 2020-04-17 17:17:03\n",
              "3 5DD24A79A4E006F4 docked_bike   2020-04-01 17:54:13 2020-04-01 18:08:36\n",
              "4 2A59BBDF5CDBA725 docked_bike   2020-04-07 12:50:19 2020-04-07 13:02:31\n",
              "5 27AD306C119C6158 docked_bike   2020-04-18 10:22:59 2020-04-18 11:15:54\n",
              "6 356216E875132F61 docked_bike   2020-04-30 17:55:47 2020-04-30 18:01:11\n",
              "  start_station_name                  start_station_id\n",
              "1 Eckhart Park                        86              \n",
              "2 Drake Ave & Fullerton Ave           503             \n",
              "3 McClurg Ct & Erie St                142             \n",
              "4 California Ave & Division St        216             \n",
              "5 Rush St & Hubbard St                125             \n",
              "6 Mies van der Rohe Way & Chicago Ave 173             \n",
              "  end_station_name            end_station_id member_casual length_of_ride\n",
              "1 Lincoln Ave & Diversey Pkwy 152            member        00:26:49      \n",
              "2 Kosciuszko Park             499            member        00:08:09      \n",
              "3 Indiana Ave & Roosevelt Rd  255            member        00:14:23      \n",
              "4 Wood St & Augusta Blvd      657            member        00:12:12      \n",
              "5 Sheridan Rd & Lawrence Ave  323            casual        00:52:55      \n",
              "6 Streeter Dr & Grand Ave     35             member        00:05:24      \n",
              "  days_of_week Year\n",
              "1 Sun          2020\n",
              "2 Fri          2020\n",
              "3 Wed          2020\n",
              "4 Tue          2020\n",
              "5 Sat          2020\n",
              "6 Thu          2020"
            ],
            "text/latex": "A tibble: 6 × 12\n\\begin{tabular}{llllllllllll}\n ride\\_id & rideable\\_type & started\\_at & ended\\_at & start\\_station\\_name & start\\_station\\_id & end\\_station\\_name & end\\_station\\_id & member\\_casual & length\\_of\\_ride & days\\_of\\_week & Year\\\\\n <chr> & <chr> & <dttm> & <dttm> & <chr> & <fct> & <chr> & <fct> & <chr> & <time> & <ord> & <chr>\\\\\n\\hline\n\t A847FADBBC638E45 & docked\\_bike & 2020-04-26 17:45:14 & 2020-04-26 18:12:03 & Eckhart Park                        & 86  & Lincoln Ave \\& Diversey Pkwy & 152 & member & 00:26:49 & Sun & 2020\\\\\n\t 5405B80E996FF60D & docked\\_bike & 2020-04-17 17:08:54 & 2020-04-17 17:17:03 & Drake Ave \\& Fullerton Ave           & 503 & Kosciuszko Park             & 499 & member & 00:08:09 & Fri & 2020\\\\\n\t 5DD24A79A4E006F4 & docked\\_bike & 2020-04-01 17:54:13 & 2020-04-01 18:08:36 & McClurg Ct \\& Erie St                & 142 & Indiana Ave \\& Roosevelt Rd  & 255 & member & 00:14:23 & Wed & 2020\\\\\n\t 2A59BBDF5CDBA725 & docked\\_bike & 2020-04-07 12:50:19 & 2020-04-07 13:02:31 & California Ave \\& Division St        & 216 & Wood St \\& Augusta Blvd      & 657 & member & 00:12:12 & Tue & 2020\\\\\n\t 27AD306C119C6158 & docked\\_bike & 2020-04-18 10:22:59 & 2020-04-18 11:15:54 & Rush St \\& Hubbard St                & 125 & Sheridan Rd \\& Lawrence Ave  & 323 & casual & 00:52:55 & Sat & 2020\\\\\n\t 356216E875132F61 & docked\\_bike & 2020-04-30 17:55:47 & 2020-04-30 18:01:11 & Mies van der Rohe Way \\& Chicago Ave & 173 & Streeter Dr \\& Grand Ave     & 35  & member & 00:05:24 & Thu & 2020\\\\\n\\end{tabular}\n",
            "text/markdown": "\nA tibble: 6 × 12\n\n| ride_id &lt;chr&gt; | rideable_type &lt;chr&gt; | started_at &lt;dttm&gt; | ended_at &lt;dttm&gt; | start_station_name &lt;chr&gt; | start_station_id &lt;fct&gt; | end_station_name &lt;chr&gt; | end_station_id &lt;fct&gt; | member_casual &lt;chr&gt; | length_of_ride &lt;time&gt; | days_of_week &lt;ord&gt; | Year &lt;chr&gt; |\n|---|---|---|---|---|---|---|---|---|---|---|---|\n| A847FADBBC638E45 | docked_bike | 2020-04-26 17:45:14 | 2020-04-26 18:12:03 | Eckhart Park                        | 86  | Lincoln Ave &amp; Diversey Pkwy | 152 | member | 00:26:49 | Sun | 2020 |\n| 5405B80E996FF60D | docked_bike | 2020-04-17 17:08:54 | 2020-04-17 17:17:03 | Drake Ave &amp; Fullerton Ave           | 503 | Kosciuszko Park             | 499 | member | 00:08:09 | Fri | 2020 |\n| 5DD24A79A4E006F4 | docked_bike | 2020-04-01 17:54:13 | 2020-04-01 18:08:36 | McClurg Ct &amp; Erie St                | 142 | Indiana Ave &amp; Roosevelt Rd  | 255 | member | 00:14:23 | Wed | 2020 |\n| 2A59BBDF5CDBA725 | docked_bike | 2020-04-07 12:50:19 | 2020-04-07 13:02:31 | California Ave &amp; Division St        | 216 | Wood St &amp; Augusta Blvd      | 657 | member | 00:12:12 | Tue | 2020 |\n| 27AD306C119C6158 | docked_bike | 2020-04-18 10:22:59 | 2020-04-18 11:15:54 | Rush St &amp; Hubbard St                | 125 | Sheridan Rd &amp; Lawrence Ave  | 323 | casual | 00:52:55 | Sat | 2020 |\n| 356216E875132F61 | docked_bike | 2020-04-30 17:55:47 | 2020-04-30 18:01:11 | Mies van der Rohe Way &amp; Chicago Ave | 173 | Streeter Dr &amp; Grand Ave     | 35  | member | 00:05:24 | Thu | 2020 |\n\n",
            "text/html": [
              "<table class=\"dataframe\">\n",
              "<caption>A tibble: 6 × 12</caption>\n",
              "<thead>\n",
              "\t<tr><th scope=col>ride_id</th><th scope=col>rideable_type</th><th scope=col>started_at</th><th scope=col>ended_at</th><th scope=col>start_station_name</th><th scope=col>start_station_id</th><th scope=col>end_station_name</th><th scope=col>end_station_id</th><th scope=col>member_casual</th><th scope=col>length_of_ride</th><th scope=col>days_of_week</th><th scope=col>Year</th></tr>\n",
              "\t<tr><th scope=col>&lt;chr&gt;</th><th scope=col>&lt;chr&gt;</th><th scope=col>&lt;dttm&gt;</th><th scope=col>&lt;dttm&gt;</th><th scope=col>&lt;chr&gt;</th><th scope=col>&lt;fct&gt;</th><th scope=col>&lt;chr&gt;</th><th scope=col>&lt;fct&gt;</th><th scope=col>&lt;chr&gt;</th><th scope=col>&lt;time&gt;</th><th scope=col>&lt;ord&gt;</th><th scope=col>&lt;chr&gt;</th></tr>\n",
              "</thead>\n",
              "<tbody>\n",
              "\t<tr><td>A847FADBBC638E45</td><td>docked_bike</td><td>2020-04-26 17:45:14</td><td>2020-04-26 18:12:03</td><td><span style=white-space:pre-wrap>Eckhart Park                       </span></td><td>86 </td><td>Lincoln Ave &amp; Diversey Pkwy</td><td>152</td><td>member</td><td>00:26:49</td><td>Sun</td><td>2020</td></tr>\n",
              "\t<tr><td>5405B80E996FF60D</td><td>docked_bike</td><td>2020-04-17 17:08:54</td><td>2020-04-17 17:17:03</td><td><span style=white-space:pre-wrap>Drake Ave &amp; Fullerton Ave          </span></td><td>503</td><td><span style=white-space:pre-wrap>Kosciuszko Park            </span></td><td>499</td><td>member</td><td>00:08:09</td><td>Fri</td><td>2020</td></tr>\n",
              "\t<tr><td>5DD24A79A4E006F4</td><td>docked_bike</td><td>2020-04-01 17:54:13</td><td>2020-04-01 18:08:36</td><td><span style=white-space:pre-wrap>McClurg Ct &amp; Erie St               </span></td><td>142</td><td>Indiana Ave &amp; Roosevelt Rd </td><td>255</td><td>member</td><td>00:14:23</td><td>Wed</td><td>2020</td></tr>\n",
              "\t<tr><td>2A59BBDF5CDBA725</td><td>docked_bike</td><td>2020-04-07 12:50:19</td><td>2020-04-07 13:02:31</td><td><span style=white-space:pre-wrap>California Ave &amp; Division St       </span></td><td>216</td><td><span style=white-space:pre-wrap>Wood St &amp; Augusta Blvd     </span></td><td>657</td><td>member</td><td>00:12:12</td><td>Tue</td><td>2020</td></tr>\n",
              "\t<tr><td>27AD306C119C6158</td><td>docked_bike</td><td>2020-04-18 10:22:59</td><td>2020-04-18 11:15:54</td><td><span style=white-space:pre-wrap>Rush St &amp; Hubbard St               </span></td><td>125</td><td>Sheridan Rd &amp; Lawrence Ave </td><td>323</td><td>casual</td><td>00:52:55</td><td>Sat</td><td>2020</td></tr>\n",
              "\t<tr><td>356216E875132F61</td><td>docked_bike</td><td>2020-04-30 17:55:47</td><td>2020-04-30 18:01:11</td><td>Mies van der Rohe Way &amp; Chicago Ave</td><td>173</td><td><span style=white-space:pre-wrap>Streeter Dr &amp; Grand Ave    </span></td><td>35 </td><td>member</td><td>00:05:24</td><td>Thu</td><td>2020</td></tr>\n",
              "</tbody>\n",
              "</table>\n"
            ]
          },
          "metadata": {
            "tags": []
          }
        }
      ]
    },
    {
      "cell_type": "code",
      "metadata": {
        "colab": {
          "base_uri": "https://localhost:8080/",
          "height": 503
        },
        "id": "xGZw_k-Gl0Zw",
        "outputId": "d0503753-9a25-453f-8a1f-7a96fe9a7ae6"
      },
      "source": [
        "# Added a column for the month \n",
        "all_data_v3$month <- format(all_data_v3$ended_at, format=\"%m\")\n",
        "head(all_data_v3)"
      ],
      "execution_count": 193,
      "outputs": [
        {
          "output_type": "display_data",
          "data": {
            "text/plain": [
              "  ride_id          rideable_type started_at          ended_at           \n",
              "1 A847FADBBC638E45 docked_bike   2020-04-26 17:45:14 2020-04-26 18:12:03\n",
              "2 5405B80E996FF60D docked_bike   2020-04-17 17:08:54 2020-04-17 17:17:03\n",
              "3 5DD24A79A4E006F4 docked_bike   2020-04-01 17:54:13 2020-04-01 18:08:36\n",
              "4 2A59BBDF5CDBA725 docked_bike   2020-04-07 12:50:19 2020-04-07 13:02:31\n",
              "5 27AD306C119C6158 docked_bike   2020-04-18 10:22:59 2020-04-18 11:15:54\n",
              "6 356216E875132F61 docked_bike   2020-04-30 17:55:47 2020-04-30 18:01:11\n",
              "  start_station_name                  start_station_id\n",
              "1 Eckhart Park                        86              \n",
              "2 Drake Ave & Fullerton Ave           503             \n",
              "3 McClurg Ct & Erie St                142             \n",
              "4 California Ave & Division St        216             \n",
              "5 Rush St & Hubbard St                125             \n",
              "6 Mies van der Rohe Way & Chicago Ave 173             \n",
              "  end_station_name            end_station_id member_casual length_of_ride\n",
              "1 Lincoln Ave & Diversey Pkwy 152            member        00:26:49      \n",
              "2 Kosciuszko Park             499            member        00:08:09      \n",
              "3 Indiana Ave & Roosevelt Rd  255            member        00:14:23      \n",
              "4 Wood St & Augusta Blvd      657            member        00:12:12      \n",
              "5 Sheridan Rd & Lawrence Ave  323            casual        00:52:55      \n",
              "6 Streeter Dr & Grand Ave     35             member        00:05:24      \n",
              "  days_of_week Year month\n",
              "1 Sun          2020 04   \n",
              "2 Fri          2020 04   \n",
              "3 Wed          2020 04   \n",
              "4 Tue          2020 04   \n",
              "5 Sat          2020 04   \n",
              "6 Thu          2020 04   "
            ],
            "text/latex": "A tibble: 6 × 13\n\\begin{tabular}{lllllllllllll}\n ride\\_id & rideable\\_type & started\\_at & ended\\_at & start\\_station\\_name & start\\_station\\_id & end\\_station\\_name & end\\_station\\_id & member\\_casual & length\\_of\\_ride & days\\_of\\_week & Year & month\\\\\n <chr> & <chr> & <dttm> & <dttm> & <chr> & <fct> & <chr> & <fct> & <chr> & <time> & <ord> & <chr> & <chr>\\\\\n\\hline\n\t A847FADBBC638E45 & docked\\_bike & 2020-04-26 17:45:14 & 2020-04-26 18:12:03 & Eckhart Park                        & 86  & Lincoln Ave \\& Diversey Pkwy & 152 & member & 00:26:49 & Sun & 2020 & 04\\\\\n\t 5405B80E996FF60D & docked\\_bike & 2020-04-17 17:08:54 & 2020-04-17 17:17:03 & Drake Ave \\& Fullerton Ave           & 503 & Kosciuszko Park             & 499 & member & 00:08:09 & Fri & 2020 & 04\\\\\n\t 5DD24A79A4E006F4 & docked\\_bike & 2020-04-01 17:54:13 & 2020-04-01 18:08:36 & McClurg Ct \\& Erie St                & 142 & Indiana Ave \\& Roosevelt Rd  & 255 & member & 00:14:23 & Wed & 2020 & 04\\\\\n\t 2A59BBDF5CDBA725 & docked\\_bike & 2020-04-07 12:50:19 & 2020-04-07 13:02:31 & California Ave \\& Division St        & 216 & Wood St \\& Augusta Blvd      & 657 & member & 00:12:12 & Tue & 2020 & 04\\\\\n\t 27AD306C119C6158 & docked\\_bike & 2020-04-18 10:22:59 & 2020-04-18 11:15:54 & Rush St \\& Hubbard St                & 125 & Sheridan Rd \\& Lawrence Ave  & 323 & casual & 00:52:55 & Sat & 2020 & 04\\\\\n\t 356216E875132F61 & docked\\_bike & 2020-04-30 17:55:47 & 2020-04-30 18:01:11 & Mies van der Rohe Way \\& Chicago Ave & 173 & Streeter Dr \\& Grand Ave     & 35  & member & 00:05:24 & Thu & 2020 & 04\\\\\n\\end{tabular}\n",
            "text/markdown": "\nA tibble: 6 × 13\n\n| ride_id &lt;chr&gt; | rideable_type &lt;chr&gt; | started_at &lt;dttm&gt; | ended_at &lt;dttm&gt; | start_station_name &lt;chr&gt; | start_station_id &lt;fct&gt; | end_station_name &lt;chr&gt; | end_station_id &lt;fct&gt; | member_casual &lt;chr&gt; | length_of_ride &lt;time&gt; | days_of_week &lt;ord&gt; | Year &lt;chr&gt; | month &lt;chr&gt; |\n|---|---|---|---|---|---|---|---|---|---|---|---|---|\n| A847FADBBC638E45 | docked_bike | 2020-04-26 17:45:14 | 2020-04-26 18:12:03 | Eckhart Park                        | 86  | Lincoln Ave &amp; Diversey Pkwy | 152 | member | 00:26:49 | Sun | 2020 | 04 |\n| 5405B80E996FF60D | docked_bike | 2020-04-17 17:08:54 | 2020-04-17 17:17:03 | Drake Ave &amp; Fullerton Ave           | 503 | Kosciuszko Park             | 499 | member | 00:08:09 | Fri | 2020 | 04 |\n| 5DD24A79A4E006F4 | docked_bike | 2020-04-01 17:54:13 | 2020-04-01 18:08:36 | McClurg Ct &amp; Erie St                | 142 | Indiana Ave &amp; Roosevelt Rd  | 255 | member | 00:14:23 | Wed | 2020 | 04 |\n| 2A59BBDF5CDBA725 | docked_bike | 2020-04-07 12:50:19 | 2020-04-07 13:02:31 | California Ave &amp; Division St        | 216 | Wood St &amp; Augusta Blvd      | 657 | member | 00:12:12 | Tue | 2020 | 04 |\n| 27AD306C119C6158 | docked_bike | 2020-04-18 10:22:59 | 2020-04-18 11:15:54 | Rush St &amp; Hubbard St                | 125 | Sheridan Rd &amp; Lawrence Ave  | 323 | casual | 00:52:55 | Sat | 2020 | 04 |\n| 356216E875132F61 | docked_bike | 2020-04-30 17:55:47 | 2020-04-30 18:01:11 | Mies van der Rohe Way &amp; Chicago Ave | 173 | Streeter Dr &amp; Grand Ave     | 35  | member | 00:05:24 | Thu | 2020 | 04 |\n\n",
            "text/html": [
              "<table class=\"dataframe\">\n",
              "<caption>A tibble: 6 × 13</caption>\n",
              "<thead>\n",
              "\t<tr><th scope=col>ride_id</th><th scope=col>rideable_type</th><th scope=col>started_at</th><th scope=col>ended_at</th><th scope=col>start_station_name</th><th scope=col>start_station_id</th><th scope=col>end_station_name</th><th scope=col>end_station_id</th><th scope=col>member_casual</th><th scope=col>length_of_ride</th><th scope=col>days_of_week</th><th scope=col>Year</th><th scope=col>month</th></tr>\n",
              "\t<tr><th scope=col>&lt;chr&gt;</th><th scope=col>&lt;chr&gt;</th><th scope=col>&lt;dttm&gt;</th><th scope=col>&lt;dttm&gt;</th><th scope=col>&lt;chr&gt;</th><th scope=col>&lt;fct&gt;</th><th scope=col>&lt;chr&gt;</th><th scope=col>&lt;fct&gt;</th><th scope=col>&lt;chr&gt;</th><th scope=col>&lt;time&gt;</th><th scope=col>&lt;ord&gt;</th><th scope=col>&lt;chr&gt;</th><th scope=col>&lt;chr&gt;</th></tr>\n",
              "</thead>\n",
              "<tbody>\n",
              "\t<tr><td>A847FADBBC638E45</td><td>docked_bike</td><td>2020-04-26 17:45:14</td><td>2020-04-26 18:12:03</td><td><span style=white-space:pre-wrap>Eckhart Park                       </span></td><td>86 </td><td>Lincoln Ave &amp; Diversey Pkwy</td><td>152</td><td>member</td><td>00:26:49</td><td>Sun</td><td>2020</td><td>04</td></tr>\n",
              "\t<tr><td>5405B80E996FF60D</td><td>docked_bike</td><td>2020-04-17 17:08:54</td><td>2020-04-17 17:17:03</td><td><span style=white-space:pre-wrap>Drake Ave &amp; Fullerton Ave          </span></td><td>503</td><td><span style=white-space:pre-wrap>Kosciuszko Park            </span></td><td>499</td><td>member</td><td>00:08:09</td><td>Fri</td><td>2020</td><td>04</td></tr>\n",
              "\t<tr><td>5DD24A79A4E006F4</td><td>docked_bike</td><td>2020-04-01 17:54:13</td><td>2020-04-01 18:08:36</td><td><span style=white-space:pre-wrap>McClurg Ct &amp; Erie St               </span></td><td>142</td><td>Indiana Ave &amp; Roosevelt Rd </td><td>255</td><td>member</td><td>00:14:23</td><td>Wed</td><td>2020</td><td>04</td></tr>\n",
              "\t<tr><td>2A59BBDF5CDBA725</td><td>docked_bike</td><td>2020-04-07 12:50:19</td><td>2020-04-07 13:02:31</td><td><span style=white-space:pre-wrap>California Ave &amp; Division St       </span></td><td>216</td><td><span style=white-space:pre-wrap>Wood St &amp; Augusta Blvd     </span></td><td>657</td><td>member</td><td>00:12:12</td><td>Tue</td><td>2020</td><td>04</td></tr>\n",
              "\t<tr><td>27AD306C119C6158</td><td>docked_bike</td><td>2020-04-18 10:22:59</td><td>2020-04-18 11:15:54</td><td><span style=white-space:pre-wrap>Rush St &amp; Hubbard St               </span></td><td>125</td><td>Sheridan Rd &amp; Lawrence Ave </td><td>323</td><td>casual</td><td>00:52:55</td><td>Sat</td><td>2020</td><td>04</td></tr>\n",
              "\t<tr><td>356216E875132F61</td><td>docked_bike</td><td>2020-04-30 17:55:47</td><td>2020-04-30 18:01:11</td><td>Mies van der Rohe Way &amp; Chicago Ave</td><td>173</td><td><span style=white-space:pre-wrap>Streeter Dr &amp; Grand Ave    </span></td><td>35 </td><td>member</td><td>00:05:24</td><td>Thu</td><td>2020</td><td>04</td></tr>\n",
              "</tbody>\n",
              "</table>\n"
            ]
          },
          "metadata": {
            "tags": []
          }
        }
      ]
    },
    {
      "cell_type": "markdown",
      "metadata": {
        "id": "coUqBc86M5JR"
      },
      "source": [
        "## Analyze\n"
      ]
    },
    {
      "cell_type": "code",
      "metadata": {
        "colab": {
          "base_uri": "https://localhost:8080/",
          "height": 127
        },
        "id": "YUJxFvu6M_HM",
        "outputId": "63b3f854-7567-43a9-dee8-bf8d8933d0a3"
      },
      "source": [
        "# Mean of length of ride\n",
        "all_data_v3 %>%\n",
        "    summarize(mean(length_of_ride))"
      ],
      "execution_count": 39,
      "outputs": [
        {
          "output_type": "display_data",
          "data": {
            "text/plain": [
              "  mean(length_of_ride)\n",
              "1 1613.571 secs       "
            ],
            "text/latex": "A tibble: 1 × 1\n\\begin{tabular}{l}\n mean(length\\_of\\_ride)\\\\\n <drtn>\\\\\n\\hline\n\t 1613.571 secs\\\\\n\\end{tabular}\n",
            "text/markdown": "\nA tibble: 1 × 1\n\n| mean(length_of_ride) &lt;drtn&gt; |\n|---|\n| 1613.571 secs |\n\n",
            "text/html": [
              "<table class=\"dataframe\">\n",
              "<caption>A tibble: 1 × 1</caption>\n",
              "<thead>\n",
              "\t<tr><th scope=col>mean(length_of_ride)</th></tr>\n",
              "\t<tr><th scope=col>&lt;drtn&gt;</th></tr>\n",
              "</thead>\n",
              "<tbody>\n",
              "\t<tr><td>1613.571 secs</td></tr>\n",
              "</tbody>\n",
              "</table>\n"
            ]
          },
          "metadata": {
            "tags": []
          }
        }
      ]
    },
    {
      "cell_type": "code",
      "metadata": {
        "colab": {
          "base_uri": "https://localhost:8080/",
          "height": 127
        },
        "id": "EiiKU5tVNPvN",
        "outputId": "7d308309-7aa8-4b4f-a3b7-4cdaeaf18cd9"
      },
      "source": [
        "# Max of length of ride\n",
        "all_data_v3 %>%\n",
        "    summarize(max(length_of_ride))"
      ],
      "execution_count": 40,
      "outputs": [
        {
          "output_type": "display_data",
          "data": {
            "text/plain": [
              "  max(length_of_ride)\n",
              "1 3523202 secs       "
            ],
            "text/latex": "A tibble: 1 × 1\n\\begin{tabular}{l}\n max(length\\_of\\_ride)\\\\\n <drtn>\\\\\n\\hline\n\t 3523202 secs\\\\\n\\end{tabular}\n",
            "text/markdown": "\nA tibble: 1 × 1\n\n| max(length_of_ride) &lt;drtn&gt; |\n|---|\n| 3523202 secs |\n\n",
            "text/html": [
              "<table class=\"dataframe\">\n",
              "<caption>A tibble: 1 × 1</caption>\n",
              "<thead>\n",
              "\t<tr><th scope=col>max(length_of_ride)</th></tr>\n",
              "\t<tr><th scope=col>&lt;drtn&gt;</th></tr>\n",
              "</thead>\n",
              "<tbody>\n",
              "\t<tr><td>3523202 secs</td></tr>\n",
              "</tbody>\n",
              "</table>\n"
            ]
          },
          "metadata": {
            "tags": []
          }
        }
      ]
    },
    {
      "cell_type": "code",
      "metadata": {
        "colab": {
          "base_uri": "https://localhost:8080/",
          "height": 127
        },
        "id": "psvKEqWvNw9L",
        "outputId": "063070bb-3fe0-433f-b39a-c1faa19c3d1a"
      },
      "source": [
        "# Min of length of ride\n",
        "all_data_v3 %>%\n",
        "    summarize(min(length_of_ride))"
      ],
      "execution_count": 41,
      "outputs": [
        {
          "output_type": "display_data",
          "data": {
            "text/plain": [
              "  min(length_of_ride)\n",
              "1 1 secs             "
            ],
            "text/latex": "A tibble: 1 × 1\n\\begin{tabular}{l}\n min(length\\_of\\_ride)\\\\\n <drtn>\\\\\n\\hline\n\t 1 secs\\\\\n\\end{tabular}\n",
            "text/markdown": "\nA tibble: 1 × 1\n\n| min(length_of_ride) &lt;drtn&gt; |\n|---|\n| 1 secs |\n\n",
            "text/html": [
              "<table class=\"dataframe\">\n",
              "<caption>A tibble: 1 × 1</caption>\n",
              "<thead>\n",
              "\t<tr><th scope=col>min(length_of_ride)</th></tr>\n",
              "\t<tr><th scope=col>&lt;drtn&gt;</th></tr>\n",
              "</thead>\n",
              "<tbody>\n",
              "\t<tr><td>1 secs</td></tr>\n",
              "</tbody>\n",
              "</table>\n"
            ]
          },
          "metadata": {
            "tags": []
          }
        }
      ]
    },
    {
      "cell_type": "code",
      "metadata": {
        "colab": {
          "base_uri": "https://localhost:8080/",
          "height": 158
        },
        "id": "b5sqYtD1OPtq",
        "outputId": "954ed7fd-85ec-49bf-e6ce-14b46d6c315c"
      },
      "source": [
        "#  Average length of ride for members and casual riders\n",
        "all_data_v3 %>% \n",
        "    group_by(member_casual) %>%\n",
        "    summarize(mean(length_of_ride))"
      ],
      "execution_count": 51,
      "outputs": [
        {
          "output_type": "display_data",
          "data": {
            "text/plain": [
              "  member_casual mean(length_of_ride)\n",
              "1 casual        2603.7744 secs      \n",
              "2 member         948.9538 secs      "
            ],
            "text/latex": "A tibble: 2 × 2\n\\begin{tabular}{ll}\n member\\_casual & mean(length\\_of\\_ride)\\\\\n <chr> & <drtn>\\\\\n\\hline\n\t casual & 2603.7744 secs\\\\\n\t member &  948.9538 secs\\\\\n\\end{tabular}\n",
            "text/markdown": "\nA tibble: 2 × 2\n\n| member_casual &lt;chr&gt; | mean(length_of_ride) &lt;drtn&gt; |\n|---|---|\n| casual | 2603.7744 secs |\n| member |  948.9538 secs |\n\n",
            "text/html": [
              "<table class=\"dataframe\">\n",
              "<caption>A tibble: 2 × 2</caption>\n",
              "<thead>\n",
              "\t<tr><th scope=col>member_casual</th><th scope=col>mean(length_of_ride)</th></tr>\n",
              "\t<tr><th scope=col>&lt;chr&gt;</th><th scope=col>&lt;drtn&gt;</th></tr>\n",
              "</thead>\n",
              "<tbody>\n",
              "\t<tr><td>casual</td><td>2603.7744 secs</td></tr>\n",
              "\t<tr><td>member</td><td> 948.9538 secs</td></tr>\n",
              "</tbody>\n",
              "</table>\n"
            ]
          },
          "metadata": {
            "tags": []
          }
        }
      ]
    },
    {
      "cell_type": "code",
      "metadata": {
        "colab": {
          "base_uri": "https://localhost:8080/",
          "height": 312
        },
        "id": "HNgOlMKKQPB5",
        "outputId": "1d0bbb34-6398-4bb5-d0ec-c89583a1855c"
      },
      "source": [
        "#  Average length of ride for days of the week\n",
        "all_data_v3 %>% \n",
        "    group_by(days_of_week) %>%\n",
        "    summarize(mean(length_of_ride))"
      ],
      "execution_count": 54,
      "outputs": [
        {
          "output_type": "display_data",
          "data": {
            "text/plain": [
              "  days_of_week mean(length_of_ride)\n",
              "1 Sun          1990.037 secs       \n",
              "2 Mon          1502.491 secs       \n",
              "3 Tue          1381.448 secs       \n",
              "4 Wed          1349.723 secs       \n",
              "5 Thu          1444.402 secs       \n",
              "6 Fri          1558.311 secs       \n",
              "7 Sat          1879.692 secs       "
            ],
            "text/latex": "A tibble: 7 × 2\n\\begin{tabular}{ll}\n days\\_of\\_week & mean(length\\_of\\_ride)\\\\\n <ord> & <drtn>\\\\\n\\hline\n\t Sun & 1990.037 secs\\\\\n\t Mon & 1502.491 secs\\\\\n\t Tue & 1381.448 secs\\\\\n\t Wed & 1349.723 secs\\\\\n\t Thu & 1444.402 secs\\\\\n\t Fri & 1558.311 secs\\\\\n\t Sat & 1879.692 secs\\\\\n\\end{tabular}\n",
            "text/markdown": "\nA tibble: 7 × 2\n\n| days_of_week &lt;ord&gt; | mean(length_of_ride) &lt;drtn&gt; |\n|---|---|\n| Sun | 1990.037 secs |\n| Mon | 1502.491 secs |\n| Tue | 1381.448 secs |\n| Wed | 1349.723 secs |\n| Thu | 1444.402 secs |\n| Fri | 1558.311 secs |\n| Sat | 1879.692 secs |\n\n",
            "text/html": [
              "<table class=\"dataframe\">\n",
              "<caption>A tibble: 7 × 2</caption>\n",
              "<thead>\n",
              "\t<tr><th scope=col>days_of_week</th><th scope=col>mean(length_of_ride)</th></tr>\n",
              "\t<tr><th scope=col>&lt;ord&gt;</th><th scope=col>&lt;drtn&gt;</th></tr>\n",
              "</thead>\n",
              "<tbody>\n",
              "\t<tr><td>Sun</td><td>1990.037 secs</td></tr>\n",
              "\t<tr><td>Mon</td><td>1502.491 secs</td></tr>\n",
              "\t<tr><td>Tue</td><td>1381.448 secs</td></tr>\n",
              "\t<tr><td>Wed</td><td>1349.723 secs</td></tr>\n",
              "\t<tr><td>Thu</td><td>1444.402 secs</td></tr>\n",
              "\t<tr><td>Fri</td><td>1558.311 secs</td></tr>\n",
              "\t<tr><td>Sat</td><td>1879.692 secs</td></tr>\n",
              "</tbody>\n",
              "</table>\n"
            ]
          },
          "metadata": {
            "tags": []
          }
        }
      ]
    },
    {
      "cell_type": "code",
      "metadata": {
        "colab": {
          "base_uri": "https://localhost:8080/",
          "height": 563
        },
        "id": "R-w8fZfNQYh4",
        "outputId": "f4ee4adc-12db-4890-f2d6-ddb6918a4547"
      },
      "source": [
        "# number of rides and average duration for users by days of the week and member type\n",
        "all_data_v3 %>% \n",
        "  group_by(member_casual, days_of_week) %>% \n",
        "  summarize(number_of_rides=n(), average_duration = mean(length_of_ride))"
      ],
      "execution_count": 62,
      "outputs": [
        {
          "output_type": "stream",
          "text": [
            "`summarise()` has grouped output by 'member_casual'. You can override using the `.groups` argument.\n",
            "\n"
          ],
          "name": "stderr"
        },
        {
          "output_type": "display_data",
          "data": {
            "text/plain": [
              "   member_casual days_of_week number_of_rides average_duration\n",
              "1  casual        Sun          150745          2947.9328 secs  \n",
              "2  casual        Mon           88441          2626.5823 secs  \n",
              "3  casual        Tue           84258          2378.7617 secs  \n",
              "4  casual        Wed           89650          2249.6197 secs  \n",
              "5  casual        Thu           93885          2468.6026 secs  \n",
              "6  casual        Fri          116597          2529.2966 secs  \n",
              "7  casual        Sat          195921          2696.5988 secs  \n",
              "8  member        Sun          158100          1076.7038 secs  \n",
              "9  member        Mon          161824           888.1456 secs  \n",
              "10 member        Tue          169940           886.9693 secs  \n",
              "11 member        Wed          180049           901.6469 secs  \n",
              "12 member        Thu          176708           900.2434 secs  \n",
              "13 member        Fri          179979           929.2703 secs  \n",
              "14 member        Sat          194355          1056.2023 secs  "
            ],
            "text/latex": "A grouped\\_df: 14 × 4\n\\begin{tabular}{llll}\n member\\_casual & days\\_of\\_week & number\\_of\\_rides & average\\_duration\\\\\n <chr> & <ord> & <int> & <drtn>\\\\\n\\hline\n\t casual & Sun & 150745 & 2947.9328 secs\\\\\n\t casual & Mon &  88441 & 2626.5823 secs\\\\\n\t casual & Tue &  84258 & 2378.7617 secs\\\\\n\t casual & Wed &  89650 & 2249.6197 secs\\\\\n\t casual & Thu &  93885 & 2468.6026 secs\\\\\n\t casual & Fri & 116597 & 2529.2966 secs\\\\\n\t casual & Sat & 195921 & 2696.5988 secs\\\\\n\t member & Sun & 158100 & 1076.7038 secs\\\\\n\t member & Mon & 161824 &  888.1456 secs\\\\\n\t member & Tue & 169940 &  886.9693 secs\\\\\n\t member & Wed & 180049 &  901.6469 secs\\\\\n\t member & Thu & 176708 &  900.2434 secs\\\\\n\t member & Fri & 179979 &  929.2703 secs\\\\\n\t member & Sat & 194355 & 1056.2023 secs\\\\\n\\end{tabular}\n",
            "text/markdown": "\nA grouped_df: 14 × 4\n\n| member_casual &lt;chr&gt; | days_of_week &lt;ord&gt; | number_of_rides &lt;int&gt; | average_duration &lt;drtn&gt; |\n|---|---|---|---|\n| casual | Sun | 150745 | 2947.9328 secs |\n| casual | Mon |  88441 | 2626.5823 secs |\n| casual | Tue |  84258 | 2378.7617 secs |\n| casual | Wed |  89650 | 2249.6197 secs |\n| casual | Thu |  93885 | 2468.6026 secs |\n| casual | Fri | 116597 | 2529.2966 secs |\n| casual | Sat | 195921 | 2696.5988 secs |\n| member | Sun | 158100 | 1076.7038 secs |\n| member | Mon | 161824 |  888.1456 secs |\n| member | Tue | 169940 |  886.9693 secs |\n| member | Wed | 180049 |  901.6469 secs |\n| member | Thu | 176708 |  900.2434 secs |\n| member | Fri | 179979 |  929.2703 secs |\n| member | Sat | 194355 | 1056.2023 secs |\n\n",
            "text/html": [
              "<table class=\"dataframe\">\n",
              "<caption>A grouped_df: 14 × 4</caption>\n",
              "<thead>\n",
              "\t<tr><th scope=col>member_casual</th><th scope=col>days_of_week</th><th scope=col>number_of_rides</th><th scope=col>average_duration</th></tr>\n",
              "\t<tr><th scope=col>&lt;chr&gt;</th><th scope=col>&lt;ord&gt;</th><th scope=col>&lt;int&gt;</th><th scope=col>&lt;drtn&gt;</th></tr>\n",
              "</thead>\n",
              "<tbody>\n",
              "\t<tr><td>casual</td><td>Sun</td><td>150745</td><td>2947.9328 secs</td></tr>\n",
              "\t<tr><td>casual</td><td>Mon</td><td> 88441</td><td>2626.5823 secs</td></tr>\n",
              "\t<tr><td>casual</td><td>Tue</td><td> 84258</td><td>2378.7617 secs</td></tr>\n",
              "\t<tr><td>casual</td><td>Wed</td><td> 89650</td><td>2249.6197 secs</td></tr>\n",
              "\t<tr><td>casual</td><td>Thu</td><td> 93885</td><td>2468.6026 secs</td></tr>\n",
              "\t<tr><td>casual</td><td>Fri</td><td>116597</td><td>2529.2966 secs</td></tr>\n",
              "\t<tr><td>casual</td><td>Sat</td><td>195921</td><td>2696.5988 secs</td></tr>\n",
              "\t<tr><td>member</td><td>Sun</td><td>158100</td><td>1076.7038 secs</td></tr>\n",
              "\t<tr><td>member</td><td>Mon</td><td>161824</td><td> 888.1456 secs</td></tr>\n",
              "\t<tr><td>member</td><td>Tue</td><td>169940</td><td> 886.9693 secs</td></tr>\n",
              "\t<tr><td>member</td><td>Wed</td><td>180049</td><td> 901.6469 secs</td></tr>\n",
              "\t<tr><td>member</td><td>Thu</td><td>176708</td><td> 900.2434 secs</td></tr>\n",
              "\t<tr><td>member</td><td>Fri</td><td>179979</td><td> 929.2703 secs</td></tr>\n",
              "\t<tr><td>member</td><td>Sat</td><td>194355</td><td>1056.2023 secs</td></tr>\n",
              "</tbody>\n",
              "</table>\n"
            ]
          },
          "metadata": {
            "tags": []
          }
        }
      ]
    },
    {
      "cell_type": "markdown",
      "metadata": {
        "id": "LAPiFWs0TDQN"
      },
      "source": [
        "## Share"
      ]
    },
    {
      "cell_type": "code",
      "metadata": {
        "colab": {
          "base_uri": "https://localhost:8080/",
          "height": 652
        },
        "id": "yI3aVWY8Q5ou",
        "outputId": "96236f6e-b9d9-464b-e2a2-41d8311e67a8"
      },
      "source": [
        "all_data_v3 %>% \n",
        "  group_by(member_casual, days_of_week) %>% \n",
        "  summarize(number_of_rides=n()) %>%\n",
        "  arrange(member_casual, days_of_week)  %>% \n",
        "  ggplot(aes(x = days_of_week, y = number_of_rides, color = ,fill = member_casual)) + \n",
        "  geom_col(position = \"dodge\")+ \n",
        "  theme(text = element_text(size=20),\n",
        "        axis.title.y = element_text(margin = margin(t = 0, r = 20, b = 0, l = 20)),\n",
        "        axis.title.x = element_text(margin = margin(t = 20, r = 0, b = 20, l = 0))\n",
        "        ) + \n",
        "  labs(x=\"Days of the Week\",y=\"Number of Rides\")\n",
        "  options(repr.plot.width = 10, repr.plot.height = 10)"
      ],
      "execution_count": 253,
      "outputs": [
        {
          "output_type": "stream",
          "text": [
            "`summarise()` has grouped output by 'member_casual'. You can override using the `.groups` argument.\n",
            "\n"
          ],
          "name": "stderr"
        },
        {
          "output_type": "display_data",
          "data": {
            "image/png": "[encoded data removed]",
            "text/plain": [
              "plot without title"
            ]
          },
          "metadata": {
            "tags": [],
            "image/png": {
              "width": 600,
              "height": 600
            }
          }
        }
      ]
    },
    {
      "cell_type": "code",
      "metadata": {
        "colab": {
          "base_uri": "https://localhost:8080/",
          "height": 687
        },
        "id": "JduiZs-bUfUe",
        "outputId": "add36895-c531-4fb6-a2d6-da4edc3d5e50"
      },
      "source": [
        "all_data_v3 %>% \n",
        "  group_by(member_casual, days_of_week) %>% \n",
        "  summarize(average_duration = mean(length_of_ride)) %>%\n",
        "  arrange(member_casual, days_of_week)  %>% \n",
        "  ggplot(aes(x = days_of_week, y = average_duration, color = ,fill = member_casual)) + \n",
        "  geom_col(position = \"dodge\",color = \"Black\") + \n",
        "  theme(text = element_text(size=20),\n",
        "        axis.title.y = element_text(margin = margin(t = 0, r = 20, b = 0, l = 20)),\n",
        "        axis.title.x = element_text(margin = margin(t = 20, r = 0, b = 20, l = 0))\n",
        "        ) + \n",
        "  labs(x=\"Days of the Week\",y=\"Average Duration\")\n",
        "  options(repr.plot.width = 10, repr.plot.height = 10)\n"
      ],
      "execution_count": 250,
      "outputs": [
        {
          "output_type": "stream",
          "text": [
            "`summarise()` has grouped output by 'member_casual'. You can override using the `.groups` argument.\n",
            "\n",
            "Don't know how to automatically pick scale for object of type difftime. Defaulting to continuous.\n",
            "\n"
          ],
          "name": "stderr"
        },
        {
          "output_type": "display_data",
          "data": {
            "image/png": "[encoded data removed]",
            "text/plain": [
              "plot without title"
            ]
          },
          "metadata": {
            "tags": [],
            "image/png": {
              "width": 600,
              "height": 600
            }
          }
        }
      ]
    },
    {
      "cell_type": "code",
      "metadata": {
        "colab": {
          "base_uri": "https://localhost:8080/",
          "height": 687
        },
        "id": "2V-OufkPY9nB",
        "outputId": "290d9703-bacd-40e9-eaeb-513e189902c7"
      },
      "source": [
        "all_data_v3 %>% \n",
        "  group_by(member_casual, Year) %>% \n",
        "  summarize(average_duration = mean(length_of_ride)) %>%\n",
        "  arrange(member_casual, Year) %>%\n",
        "  ggplot(aes(x = Year, y = average_duration,fill = member_casual)) + \n",
        "  geom_col(position = position_dodge(1)) +\n",
        "  theme(text = element_text(size=20),\n",
        "        axis.title.y = element_text(margin = margin(t = 0, r = 20, b = 0, l = 20)),\n",
        "        axis.title.x = element_text(margin = margin(t = 20, r = 0, b = 20, l = 0))\n",
        "        ) + \n",
        "  labs(y=\"Average Duration\",x=\"Year\")\n",
        "  options(repr.plot.width = 8, repr.plot.height = 8)"
      ],
      "execution_count": 183,
      "outputs": [
        {
          "output_type": "stream",
          "text": [
            "`summarise()` has grouped output by 'member_casual'. You can override using the `.groups` argument.\n",
            "\n",
            "Don't know how to automatically pick scale for object of type difftime. Defaulting to continuous.\n",
            "\n"
          ],
          "name": "stderr"
        },
        {
          "output_type": "display_data",
          "data": {
            "image/png": "[encoded data removed]",
            "text/plain": [
              "plot without title"
            ]
          },
          "metadata": {
            "tags": [],
            "image/png": {
              "width": 600,
              "height": 600
            }
          }
        }
      ]
    },
    {
      "cell_type": "code",
      "metadata": {
        "colab": {
          "base_uri": "https://localhost:8080/",
          "height": 807
        },
        "id": "BU-CEp8omTd_",
        "outputId": "383dfc55-2225-47fc-b9ff-0947afae460b"
      },
      "source": [
        "all_data_v3 %>% \n",
        "  group_by(member_casual, month) %>% \n",
        "  summarize(average_duration = mean(length_of_ride)) %>%\n",
        "  arrange(member_casual, month) %>%\n",
        "  ggplot(aes(x = month, y = average_duration,fill = member_casual)) + \n",
        "  geom_col(position = position_dodge(1)) +\n",
        "    theme(text = element_text(size=20),\n",
        "          axis.title.y = element_text(margin = margin(t = 0, r = 20, b = 0, l = 20)),\n",
        "          axis.title.x = element_text(margin = margin(t = 20, r = 0, b = 20, l = 0))\n",
        "          ) + \n",
        "  labs(y=\"Average Duration\",x=\"Month\")\n",
        "  options(repr.plot.width = 12, repr.plot.height = 12)"
      ],
      "execution_count": 240,
      "outputs": [
        {
          "output_type": "stream",
          "text": [
            "`summarise()` has grouped output by 'member_casual'. You can override using the `.groups` argument.\n",
            "\n",
            "Don't know how to automatically pick scale for object of type difftime. Defaulting to continuous.\n",
            "\n"
          ],
          "name": "stderr"
        },
        {
          "output_type": "display_data",
          "data": {
            "image/png": "[encoded data removed]",
            "text/plain": [
              "plot without title"
            ]
          },
          "metadata": {
            "tags": [],
            "image/png": {
              "width": 720,
              "height": 720
            }
          }
        }
      ]
    },
    {
      "cell_type": "code",
      "metadata": {
        "colab": {
          "base_uri": "https://localhost:8080/",
          "height": 860
        },
        "id": "BmYwVbW8qAII",
        "outputId": "69daf505-d830-4647-8878-bc7cbab02b60"
      },
      "source": [
        "# Experimental\n",
        "\n",
        "# all_data_v3 %>% \n",
        "#   group_by(member_casual, month) %>% \n",
        "#   summarize(average_duration = mean(length_of_ride)) %>%\n",
        "#   arrange(member_casual, month) %>%\n",
        "#   filter(member_casual == \"casual\") %>%\n",
        "#   ggplot(aes(x = month, y = average_duration)) + \n",
        "#   geom_line() + geom_point() +\n",
        "#   theme(text = element_text(size=20),\n",
        "#         axis.title.y = element_text(margin = margin(t = 0, r = 20, b = 0, l = 20)),\n",
        "#         axis.title.x = element_text(margin = margin(t = 20, r = 0, b = 20, l = 0))\n",
        "#         ) + \n",
        "#   labs(y=\"Average Duration\",x=\"month\")\n",
        "#   options(repr.plot.width = 8, repr.plot.height = 8)"
      ],
      "execution_count": 242,
      "outputs": [
        {
          "output_type": "stream",
          "text": [
            "`summarise()` has grouped output by 'member_casual'. You can override using the `.groups` argument.\n",
            "\n",
            "Don't know how to automatically pick scale for object of type difftime. Defaulting to continuous.\n",
            "\n",
            "geom_path: Each group consists of only one observation. Do you need to adjust\n",
            "the group aesthetic?\n",
            "\n"
          ],
          "name": "stderr"
        },
        {
          "output_type": "display_data",
          "data": {
            "image/png": "[encoded data removed]",
            "text/plain": [
              "plot without title"
            ]
          },
          "metadata": {
            "tags": [],
            "image/png": {
              "width": 720,
              "height": 720
            }
          }
        }
      ]
    },
    {
      "cell_type": "code",
      "metadata": {
        "colab": {
          "base_uri": "https://localhost:8080/",
          "height": 281
        },
        "id": "Kc_rrp-md4Ht",
        "outputId": "36fe99f4-5bf7-42cb-c0e5-82db98e1dd23"
      },
      "source": [
        "# average ride_length by type and day of week\n",
        "tot <- aggregate(all_data_v3$length_of_ride ~ all_data_v3$member_casual +\n",
        "                      all_data_v3$days_of_week, FUN = mean)\n",
        "\n",
        "head(tot)\n",
        "write.csv(tot, file = 'avg_length_of_ride.csv')"
      ],
      "execution_count": 244,
      "outputs": [
        {
          "output_type": "display_data",
          "data": {
            "text/plain": [
              "  all_data_v3$member_casual all_data_v3$days_of_week all_data_v3$length_of_ride\n",
              "1 casual                    Sun                      2947.9328 secs            \n",
              "2 member                    Sun                      1076.7038 secs            \n",
              "3 casual                    Mon                      2626.5823 secs            \n",
              "4 member                    Mon                       888.1456 secs            \n",
              "5 casual                    Tue                      2378.7617 secs            \n",
              "6 member                    Tue                       886.9693 secs            "
            ],
            "text/latex": "A data.frame: 6 × 3\n\\begin{tabular}{r|lll}\n  & all\\_data\\_v3\\$member\\_casual & all\\_data\\_v3\\$days\\_of\\_week & all\\_data\\_v3\\$length\\_of\\_ride\\\\\n  & <chr> & <ord> & <drtn>\\\\\n\\hline\n\t1 & casual & Sun & 2947.9328 secs\\\\\n\t2 & member & Sun & 1076.7038 secs\\\\\n\t3 & casual & Mon & 2626.5823 secs\\\\\n\t4 & member & Mon &  888.1456 secs\\\\\n\t5 & casual & Tue & 2378.7617 secs\\\\\n\t6 & member & Tue &  886.9693 secs\\\\\n\\end{tabular}\n",
            "text/markdown": "\nA data.frame: 6 × 3\n\n| <!--/--> | all_data_v3$member_casual &lt;chr&gt; | all_data_v3$days_of_week &lt;ord&gt; | all_data_v3$length_of_ride &lt;drtn&gt; |\n|---|---|---|---|\n| 1 | casual | Sun | 2947.9328 secs |\n| 2 | member | Sun | 1076.7038 secs |\n| 3 | casual | Mon | 2626.5823 secs |\n| 4 | member | Mon |  888.1456 secs |\n| 5 | casual | Tue | 2378.7617 secs |\n| 6 | member | Tue |  886.9693 secs |\n\n",
            "text/html": [
              "<table class=\"dataframe\">\n",
              "<caption>A data.frame: 6 × 3</caption>\n",
              "<thead>\n",
              "\t<tr><th></th><th scope=col>all_data_v3$member_casual</th><th scope=col>all_data_v3$days_of_week</th><th scope=col>all_data_v3$length_of_ride</th></tr>\n",
              "\t<tr><th></th><th scope=col>&lt;chr&gt;</th><th scope=col>&lt;ord&gt;</th><th scope=col>&lt;drtn&gt;</th></tr>\n",
              "</thead>\n",
              "<tbody>\n",
              "\t<tr><th scope=row>1</th><td>casual</td><td>Sun</td><td>2947.9328 secs</td></tr>\n",
              "\t<tr><th scope=row>2</th><td>member</td><td>Sun</td><td>1076.7038 secs</td></tr>\n",
              "\t<tr><th scope=row>3</th><td>casual</td><td>Mon</td><td>2626.5823 secs</td></tr>\n",
              "\t<tr><th scope=row>4</th><td>member</td><td>Mon</td><td> 888.1456 secs</td></tr>\n",
              "\t<tr><th scope=row>5</th><td>casual</td><td>Tue</td><td>2378.7617 secs</td></tr>\n",
              "\t<tr><th scope=row>6</th><td>member</td><td>Tue</td><td> 886.9693 secs</td></tr>\n",
              "</tbody>\n",
              "</table>\n"
            ]
          },
          "metadata": {
            "tags": []
          }
        }
      ]
    },
    {
      "cell_type": "code",
      "metadata": {
        "colab": {
          "base_uri": "https://localhost:8080/",
          "height": 281
        },
        "id": "yOWJe7mhkPi4",
        "outputId": "0903d70c-ff39-4246-e23c-6efee04f89d0"
      },
      "source": [
        "# average length_of_ride and type and month\n",
        "tot2 <- aggregate(all_data_v3$length_of_ride ~ all_data_v3$member_casual + all_data_v3$days_of_week, FUN = length)\n",
        "\n",
        "head(tot2)\n",
        "write.csv(tot2, file = 'num_of_rides_by_day.csv')"
      ],
      "execution_count": 247,
      "outputs": [
        {
          "output_type": "display_data",
          "data": {
            "text/plain": [
              "  all_data_v3$member_casual all_data_v3$days_of_week all_data_v3$length_of_ride\n",
              "1 casual                    Sun                      150745                    \n",
              "2 member                    Sun                      158100                    \n",
              "3 casual                    Mon                       88441                    \n",
              "4 member                    Mon                      161824                    \n",
              "5 casual                    Tue                       84258                    \n",
              "6 member                    Tue                      169940                    "
            ],
            "text/latex": "A data.frame: 6 × 3\n\\begin{tabular}{r|lll}\n  & all\\_data\\_v3\\$member\\_casual & all\\_data\\_v3\\$days\\_of\\_week & all\\_data\\_v3\\$length\\_of\\_ride\\\\\n  & <chr> & <ord> & <int>\\\\\n\\hline\n\t1 & casual & Sun & 150745\\\\\n\t2 & member & Sun & 158100\\\\\n\t3 & casual & Mon &  88441\\\\\n\t4 & member & Mon & 161824\\\\\n\t5 & casual & Tue &  84258\\\\\n\t6 & member & Tue & 169940\\\\\n\\end{tabular}\n",
            "text/markdown": "\nA data.frame: 6 × 3\n\n| <!--/--> | all_data_v3$member_casual &lt;chr&gt; | all_data_v3$days_of_week &lt;ord&gt; | all_data_v3$length_of_ride &lt;int&gt; |\n|---|---|---|---|\n| 1 | casual | Sun | 150745 |\n| 2 | member | Sun | 158100 |\n| 3 | casual | Mon |  88441 |\n| 4 | member | Mon | 161824 |\n| 5 | casual | Tue |  84258 |\n| 6 | member | Tue | 169940 |\n\n",
            "text/html": [
              "<table class=\"dataframe\">\n",
              "<caption>A data.frame: 6 × 3</caption>\n",
              "<thead>\n",
              "\t<tr><th></th><th scope=col>all_data_v3$member_casual</th><th scope=col>all_data_v3$days_of_week</th><th scope=col>all_data_v3$length_of_ride</th></tr>\n",
              "\t<tr><th></th><th scope=col>&lt;chr&gt;</th><th scope=col>&lt;ord&gt;</th><th scope=col>&lt;int&gt;</th></tr>\n",
              "</thead>\n",
              "<tbody>\n",
              "\t<tr><th scope=row>1</th><td>casual</td><td>Sun</td><td>150745</td></tr>\n",
              "\t<tr><th scope=row>2</th><td>member</td><td>Sun</td><td>158100</td></tr>\n",
              "\t<tr><th scope=row>3</th><td>casual</td><td>Mon</td><td> 88441</td></tr>\n",
              "\t<tr><th scope=row>4</th><td>member</td><td>Mon</td><td>161824</td></tr>\n",
              "\t<tr><th scope=row>5</th><td>casual</td><td>Tue</td><td> 84258</td></tr>\n",
              "\t<tr><th scope=row>6</th><td>member</td><td>Tue</td><td>169940</td></tr>\n",
              "</tbody>\n",
              "</table>\n"
            ]
          },
          "metadata": {
            "tags": []
          }
        }
      ]
    },
    {
      "cell_type": "code",
      "metadata": {
        "colab": {
          "base_uri": "https://localhost:8080/",
          "height": 281
        },
        "id": "vqRXi52wkyjm",
        "outputId": "81710218-6912-4db1-818d-8d2db4b082d0"
      },
      "source": [
        "tot3 <- aggregate(all_data_v3$ride_id ~ all_data_v3$member_casual + all_data_v3$month, FUN = length)\n",
        "\n",
        "head(tot3)\n",
        "write.csv(tot3, file = 'num_of_rides_by_month.csv')"
      ],
      "execution_count": 248,
      "outputs": [
        {
          "output_type": "display_data",
          "data": {
            "text/plain": [
              "  all_data_v3$member_casual all_data_v3$month all_data_v3$ride_id\n",
              "1 casual                    01                 14698             \n",
              "2 member                    01                 68822             \n",
              "3 casual                    02                  8608             \n",
              "4 member                    02                 34381             \n",
              "5 casual                    03                 73418             \n",
              "6 member                    03                125451             "
            ],
            "text/latex": "A data.frame: 6 × 3\n\\begin{tabular}{r|lll}\n  & all\\_data\\_v3\\$member\\_casual & all\\_data\\_v3\\$month & all\\_data\\_v3\\$ride\\_id\\\\\n  & <chr> & <chr> & <int>\\\\\n\\hline\n\t1 & casual & 01 &  14698\\\\\n\t2 & member & 01 &  68822\\\\\n\t3 & casual & 02 &   8608\\\\\n\t4 & member & 02 &  34381\\\\\n\t5 & casual & 03 &  73418\\\\\n\t6 & member & 03 & 125451\\\\\n\\end{tabular}\n",
            "text/markdown": "\nA data.frame: 6 × 3\n\n| <!--/--> | all_data_v3$member_casual &lt;chr&gt; | all_data_v3$month &lt;chr&gt; | all_data_v3$ride_id &lt;int&gt; |\n|---|---|---|---|\n| 1 | casual | 01 |  14698 |\n| 2 | member | 01 |  68822 |\n| 3 | casual | 02 |   8608 |\n| 4 | member | 02 |  34381 |\n| 5 | casual | 03 |  73418 |\n| 6 | member | 03 | 125451 |\n\n",
            "text/html": [
              "<table class=\"dataframe\">\n",
              "<caption>A data.frame: 6 × 3</caption>\n",
              "<thead>\n",
              "\t<tr><th></th><th scope=col>all_data_v3$member_casual</th><th scope=col>all_data_v3$month</th><th scope=col>all_data_v3$ride_id</th></tr>\n",
              "\t<tr><th></th><th scope=col>&lt;chr&gt;</th><th scope=col>&lt;chr&gt;</th><th scope=col>&lt;int&gt;</th></tr>\n",
              "</thead>\n",
              "<tbody>\n",
              "\t<tr><th scope=row>1</th><td>casual</td><td>01</td><td> 14698</td></tr>\n",
              "\t<tr><th scope=row>2</th><td>member</td><td>01</td><td> 68822</td></tr>\n",
              "\t<tr><th scope=row>3</th><td>casual</td><td>02</td><td>  8608</td></tr>\n",
              "\t<tr><th scope=row>4</th><td>member</td><td>02</td><td> 34381</td></tr>\n",
              "\t<tr><th scope=row>5</th><td>casual</td><td>03</td><td> 73418</td></tr>\n",
              "\t<tr><th scope=row>6</th><td>member</td><td>03</td><td>125451</td></tr>\n",
              "</tbody>\n",
              "</table>\n"
            ]
          },
          "metadata": {
            "tags": []
          }
        }
      ]
    },
    {
      "cell_type": "markdown",
      "metadata": {
        "id": "WkqXVPvzshDS"
      },
      "source": [
        "## Act"
      ]
    },
    {
      "cell_type": "markdown",
      "metadata": {
        "id": "1xwcoExYsQzS"
      },
      "source": [
        "### Key Findings:\n",
        "- Our casual customers take the most rides of the weekends. Conversely, our members customers take the most rides during the week.\n",
        "- On average, our members take shorter rides than our casual customers.\n",
        "- Company sees more customers in the months of July, August and September while less customers in December, February, January."
      ]
    },
    {
      "cell_type": "markdown",
      "metadata": {
        "id": "y-iRQ61ns5aR"
      },
      "source": [
        "### Recommendations\n",
        "- Advertise how a membership can save money for those customers who take longer rides.\n",
        "- Target casual customers who rent a bike for leisure on their weekends.\n",
        "- Introduce referral system where existing members can refer their friends to buy membership in discounted prices preferrably on weekends.\n",
        "- Create a large summer campaign when more people are likely to rent a bike."
      ]
    }
  ]
}
